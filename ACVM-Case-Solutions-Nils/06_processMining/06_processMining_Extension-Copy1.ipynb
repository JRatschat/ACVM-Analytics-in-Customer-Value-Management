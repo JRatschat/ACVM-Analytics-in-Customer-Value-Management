{
 "cells": [
  {
   "cell_type": "code",
   "execution_count": 34,
   "metadata": {},
   "outputs": [],
   "source": [
    "options(warn=-1)\n",
    "\n",
    "library(data.table)\n",
    "library(data.table)\n",
    "library(tidyverse)\n",
    "library(bupaR)\n",
    "library(edeaR)\n",
    "library(processmapR)\n",
    "\n",
    "# data\n",
    "load('olist_eventlog.RData')\n",
    "eventlog <- as.data.table(event_log)\n",
    "eventlog[, activity := as.character(activity)]\n",
    "\n",
    "# data for regression\n",
    "dataRegression <- copy(eventlog)"
   ]
  },
  {
   "cell_type": "markdown",
   "metadata": {},
   "source": [
    "## 4 Satisfaction Analysis\n",
    "\n",
    "Idea: Create \"duration\"-variables, ie the time passed between two activities. But only for activities that can be observed by the customer.\n",
    "\n",
    "* time passed between **purchase** and **approval** (does the customer care about approval? Or only delivery?)\n",
    "* time passed between **approval** and **delivery** (does the customer care about approval? Or only delivery?)\n",
    "* time passed between **purchase** and **delivery** \n",
    "* time passed between **product delivered** and **review provided** (Do mad customers provide quicker reviews?)"
   ]
  },
  {
   "cell_type": "code",
   "execution_count": 35,
   "metadata": {},
   "outputs": [],
   "source": [
    "# A function that takes in an eventlog-dataset and creates a column with the \n",
    "# duration (in days) between the two specified activities.\n",
    "CreateDurationVariable <- function(dat, fromActivity, toActivity, colname){\n",
    "  data <- copy(dat)\n",
    "  \n",
    "  data[, fromActivityTimestamp := min(timestamp), by = .(order_id)]\n",
    "  data[activity == fromActivity, fromActivityTimestamp := timestamp, by = .(order_id)]\n",
    "  data[, fromActivityTimestamp := max(fromActivityTimestamp), by = .(order_id)]\n",
    "\n",
    "  data[, toActivityTimestamp := min(timestamp), by = .(order_id)]\n",
    "  data[activity == toActivity, toActivityTimestamp := timestamp, by = .(order_id)]\n",
    "  data[, toActivityTimestamp := max(toActivityTimestamp), by = .(order_id)]\n",
    "  \n",
    "  data[, newDurationVariable := rep(0, length.out = nrow(data))]\n",
    "  data[, newDurationVariable := as.numeric(\n",
    "    difftime(toActivityTimestamp, fromActivityTimestamp, units = \"days\"))]\n",
    "  \n",
    "  data[, ':='(fromActivityTimestamp = NULL,\n",
    "              toActivityTimestamp = NULL)]\n",
    "  \n",
    "  setnames(data, old=\"newDurationVariable\", new=colname)\n",
    "  return(data)\n",
    "}"
   ]
  },
  {
   "cell_type": "markdown",
   "metadata": {},
   "source": [
    "#### Create duration variables"
   ]
  },
  {
   "cell_type": "code",
   "execution_count": 36,
   "metadata": {},
   "outputs": [],
   "source": [
    "# Create variable for the duration between purchase and delivery (to customer)\n",
    "dataRegression <- CreateDurationVariable(\n",
    "  dat = dataRegression,\n",
    "  fromActivity = \"purchase\",\n",
    "  toActivity = \"deliever_customer\",\n",
    "  colname = \"durPurchaseToDelivery\"\n",
    ")\n",
    "\n",
    "# Create variable for the duration between purchase and approval\n",
    "dataRegression <- CreateDurationVariable(\n",
    "  dat = dataRegression,\n",
    "  fromActivity = \"purchase\",\n",
    "  toActivity = \"approve\",\n",
    "  colname = \"durPurchaseToApproval\"\n",
    ")\n",
    "\n",
    "# Create variable for the duration between approval and delivery\n",
    "dataRegression <- CreateDurationVariable(\n",
    "  dat = dataRegression,\n",
    "  fromActivity = \"approve\",\n",
    "  toActivity = \"deliever_customer\",\n",
    "  colname = \"durApprovalToDelivery\"\n",
    ")\n",
    "\n",
    "# Create variable for the duration between approval and delivery\n",
    "dataRegression <- CreateDurationVariable(\n",
    "  dat = dataRegression,\n",
    "  fromActivity = \"deliever_customer\",\n",
    "  toActivity = \"customer provides review\",\n",
    "  colname = \"durDeliveryToReview\"\n",
    ")"
   ]
  },
  {
   "cell_type": "markdown",
   "metadata": {},
   "source": [
    "### Create a column that indicates which of the 31 trace variants the respective order corresponds to"
   ]
  },
  {
   "cell_type": "code",
   "execution_count": 37,
   "metadata": {},
   "outputs": [],
   "source": [
    "RemoveVowels <- function(string){\n",
    "    return(str_replace_all(string, pattern = \"[aeiou]\", \"\"))\n",
    "}\n",
    "\n",
    "CreateProcessVariantColumn <- function(eventlog, maxTraceLength=10, colname=\"processVariant\"){\n",
    "    eventlog[, timestampRanked := rank(timestamp, ties.method = \"first\"), by = .(order_id)]\n",
    "    \n",
    "    dtProcessVariantByOrder <- rbindlist(lapply(unique(eventlog$order_id), function(orderId){\n",
    "        dtOrder <- eventlog[order_id == orderId]\n",
    "        processVariant <- paste0(\n",
    "            c(sapply(sort(unique(dtOrder$timestampRanked)), function(t){\n",
    "                activityName <- dtOrder[timestampRanked == t, activity]\n",
    "                return(RemoveVowels(activityName))\n",
    "            }))\n",
    "            , collapse = \"-->\"\n",
    "        )\n",
    "        \n",
    "        return(data.table(\n",
    "            order_id = orderId,\n",
    "            processVariant = processVariant\n",
    "        ))\n",
    "    }))\n",
    "    \n",
    "    # Left join\n",
    "    eventlog[dtProcessVariantByOrder, on = 'order_id', processVariant := i.processVariant]\n",
    "}"
   ]
  },
  {
   "cell_type": "code",
   "execution_count": 38,
   "metadata": {},
   "outputs": [],
   "source": [
    "CreateProcessVariantColumn(dataRegression)"
   ]
  },
  {
   "cell_type": "markdown",
   "metadata": {},
   "source": [
    "#### Remove variables that are irrelevant for regression (e.g. ID-Variables)"
   ]
  },
  {
   "cell_type": "code",
   "execution_count": 39,
   "metadata": {},
   "outputs": [],
   "source": [
    "# Remove variables that are non-relevant for regression \n",
    "dataRegression <- dataRegression %>% \n",
    "  select(-starts_with(\"max\"),\n",
    "         -ends_with(\"date\"),\n",
    "         -c(\"activity_instance\",\n",
    "            \"status\",\n",
    "            \"timestamp\",\n",
    "            \".order\",\n",
    "            \"activity\",\n",
    "            \"customer_state\")) %>% \n",
    "  setDT()\n",
    "\n",
    "# Retain a single row for each case (Before, for each order there were several rows)\n",
    "dataRegression <- dataRegression[!duplicated(dataRegression$order_id)]\n",
    "\n",
    "# Further remove non-relevant variables\n",
    "dataRegression <- dataRegression %>% select(-ends_with(\"id\"))"
   ]
  },
  {
   "cell_type": "code",
   "execution_count": 40,
   "metadata": {},
   "outputs": [
    {
     "data": {
      "text/html": [
       "<ol class=list-inline>\n",
       "\t<li>'review_score'</li>\n",
       "\t<li>'boleto'</li>\n",
       "\t<li>'credit_card'</li>\n",
       "\t<li>'debit_card'</li>\n",
       "\t<li>'nmb_pay_types'</li>\n",
       "\t<li>'not_defined'</li>\n",
       "\t<li>'total_installments'</li>\n",
       "\t<li>'total_pay_value'</li>\n",
       "\t<li>'voucher'</li>\n",
       "\t<li>'nmb_items'</li>\n",
       "\t<li>'unique_items'</li>\n",
       "\t<li>'nmb_sellers'</li>\n",
       "\t<li>'sum_items_value'</li>\n",
       "\t<li>'nmb_categories'</li>\n",
       "\t<li>'avg_desc_length'</li>\n",
       "\t<li>'avg_ph_quality'</li>\n",
       "\t<li>'durPurchaseToDelivery'</li>\n",
       "\t<li>'durPurchaseToApproval'</li>\n",
       "\t<li>'durApprovalToDelivery'</li>\n",
       "\t<li>'durDeliveryToReview'</li>\n",
       "\t<li>'timestampRanked'</li>\n",
       "\t<li>'processVariant'</li>\n",
       "</ol>\n"
      ],
      "text/latex": [
       "\\begin{enumerate*}\n",
       "\\item 'review\\_score'\n",
       "\\item 'boleto'\n",
       "\\item 'credit\\_card'\n",
       "\\item 'debit\\_card'\n",
       "\\item 'nmb\\_pay\\_types'\n",
       "\\item 'not\\_defined'\n",
       "\\item 'total\\_installments'\n",
       "\\item 'total\\_pay\\_value'\n",
       "\\item 'voucher'\n",
       "\\item 'nmb\\_items'\n",
       "\\item 'unique\\_items'\n",
       "\\item 'nmb\\_sellers'\n",
       "\\item 'sum\\_items\\_value'\n",
       "\\item 'nmb\\_categories'\n",
       "\\item 'avg\\_desc\\_length'\n",
       "\\item 'avg\\_ph\\_quality'\n",
       "\\item 'durPurchaseToDelivery'\n",
       "\\item 'durPurchaseToApproval'\n",
       "\\item 'durApprovalToDelivery'\n",
       "\\item 'durDeliveryToReview'\n",
       "\\item 'timestampRanked'\n",
       "\\item 'processVariant'\n",
       "\\end{enumerate*}\n"
      ],
      "text/markdown": [
       "1. 'review_score'\n",
       "2. 'boleto'\n",
       "3. 'credit_card'\n",
       "4. 'debit_card'\n",
       "5. 'nmb_pay_types'\n",
       "6. 'not_defined'\n",
       "7. 'total_installments'\n",
       "8. 'total_pay_value'\n",
       "9. 'voucher'\n",
       "10. 'nmb_items'\n",
       "11. 'unique_items'\n",
       "12. 'nmb_sellers'\n",
       "13. 'sum_items_value'\n",
       "14. 'nmb_categories'\n",
       "15. 'avg_desc_length'\n",
       "16. 'avg_ph_quality'\n",
       "17. 'durPurchaseToDelivery'\n",
       "18. 'durPurchaseToApproval'\n",
       "19. 'durApprovalToDelivery'\n",
       "20. 'durDeliveryToReview'\n",
       "21. 'timestampRanked'\n",
       "22. 'processVariant'\n",
       "\n",
       "\n"
      ],
      "text/plain": [
       " [1] \"review_score\"          \"boleto\"                \"credit_card\"          \n",
       " [4] \"debit_card\"            \"nmb_pay_types\"         \"not_defined\"          \n",
       " [7] \"total_installments\"    \"total_pay_value\"       \"voucher\"              \n",
       "[10] \"nmb_items\"             \"unique_items\"          \"nmb_sellers\"          \n",
       "[13] \"sum_items_value\"       \"nmb_categories\"        \"avg_desc_length\"      \n",
       "[16] \"avg_ph_quality\"        \"durPurchaseToDelivery\" \"durPurchaseToApproval\"\n",
       "[19] \"durApprovalToDelivery\" \"durDeliveryToReview\"   \"timestampRanked\"      \n",
       "[22] \"processVariant\"       "
      ]
     },
     "metadata": {},
     "output_type": "display_data"
    }
   ],
   "source": [
    "colnames(dataRegression)"
   ]
  },
  {
   "cell_type": "markdown",
   "metadata": {},
   "source": [
    "#### Check for correlations between the duration-variables"
   ]
  },
  {
   "cell_type": "code",
   "execution_count": 41,
   "metadata": {},
   "outputs": [
    {
     "data": {
      "text/html": [
       "<table>\n",
       "<caption>A data.table: 3 × 4</caption>\n",
       "<thead>\n",
       "\t<tr><th scope=col>durPurchaseToDelivery</th><th scope=col>durPurchaseToApproval</th><th scope=col>durApprovalToDelivery</th><th scope=col>durDeliveryToReview</th></tr>\n",
       "\t<tr><th scope=col>&lt;dbl&gt;</th><th scope=col>&lt;dbl&gt;</th><th scope=col>&lt;dbl&gt;</th><th scope=col>&lt;dbl&gt;</th></tr>\n",
       "</thead>\n",
       "<tbody>\n",
       "\t<tr><td> 6.842280</td><td>0.01626157</td><td> 6.826019</td><td>3.754086</td></tr>\n",
       "\t<tr><td> 3.793993</td><td>0.01346065</td><td> 3.780532</td><td>1.153044</td></tr>\n",
       "\t<tr><td>17.939583</td><td>0.01017361</td><td>17.929410</td><td>1.685995</td></tr>\n",
       "</tbody>\n",
       "</table>\n"
      ],
      "text/latex": [
       "A data.table: 3 × 4\n",
       "\\begin{tabular}{r|llll}\n",
       " durPurchaseToDelivery & durPurchaseToApproval & durApprovalToDelivery & durDeliveryToReview\\\\\n",
       " <dbl> & <dbl> & <dbl> & <dbl>\\\\\n",
       "\\hline\n",
       "\t  6.842280 & 0.01626157 &  6.826019 & 3.754086\\\\\n",
       "\t  3.793993 & 0.01346065 &  3.780532 & 1.153044\\\\\n",
       "\t 17.939583 & 0.01017361 & 17.929410 & 1.685995\\\\\n",
       "\\end{tabular}\n"
      ],
      "text/markdown": [
       "\n",
       "A data.table: 3 × 4\n",
       "\n",
       "| durPurchaseToDelivery &lt;dbl&gt; | durPurchaseToApproval &lt;dbl&gt; | durApprovalToDelivery &lt;dbl&gt; | durDeliveryToReview &lt;dbl&gt; |\n",
       "|---|---|---|---|\n",
       "|  6.842280 | 0.01626157 |  6.826019 | 3.754086 |\n",
       "|  3.793993 | 0.01346065 |  3.780532 | 1.153044 |\n",
       "| 17.939583 | 0.01017361 | 17.929410 | 1.685995 |\n",
       "\n"
      ],
      "text/plain": [
       "  durPurchaseToDelivery durPurchaseToApproval durApprovalToDelivery\n",
       "1  6.842280             0.01626157             6.826019            \n",
       "2  3.793993             0.01346065             3.780532            \n",
       "3 17.939583             0.01017361            17.929410            \n",
       "  durDeliveryToReview\n",
       "1 3.754086           \n",
       "2 1.153044           \n",
       "3 1.685995           "
      ]
     },
     "metadata": {},
     "output_type": "display_data"
    }
   ],
   "source": [
    "durationVars <- dataRegression %>% select(starts_with(\"dur\"))\n",
    "\n",
    "head(durationVars, 3)"
   ]
  },
  {
   "cell_type": "code",
   "execution_count": 42,
   "metadata": {},
   "outputs": [
    {
     "data": {
      "text/html": [
       "<table>\n",
       "<caption>A data.table: 4 × 2</caption>\n",
       "<thead>\n",
       "\t<tr><th scope=col>col</th><th scope=col>countNAs</th></tr>\n",
       "\t<tr><th scope=col>&lt;chr&gt;</th><th scope=col>&lt;int&gt;</th></tr>\n",
       "</thead>\n",
       "<tbody>\n",
       "\t<tr><td>durPurchaseToDelivery</td><td>6</td></tr>\n",
       "\t<tr><td>durPurchaseToApproval</td><td>6</td></tr>\n",
       "\t<tr><td>durApprovalToDelivery</td><td>6</td></tr>\n",
       "\t<tr><td>durDeliveryToReview  </td><td>6</td></tr>\n",
       "</tbody>\n",
       "</table>\n"
      ],
      "text/latex": [
       "A data.table: 4 × 2\n",
       "\\begin{tabular}{r|ll}\n",
       " col & countNAs\\\\\n",
       " <chr> & <int>\\\\\n",
       "\\hline\n",
       "\t durPurchaseToDelivery & 6\\\\\n",
       "\t durPurchaseToApproval & 6\\\\\n",
       "\t durApprovalToDelivery & 6\\\\\n",
       "\t durDeliveryToReview   & 6\\\\\n",
       "\\end{tabular}\n"
      ],
      "text/markdown": [
       "\n",
       "A data.table: 4 × 2\n",
       "\n",
       "| col &lt;chr&gt; | countNAs &lt;int&gt; |\n",
       "|---|---|\n",
       "| durPurchaseToDelivery | 6 |\n",
       "| durPurchaseToApproval | 6 |\n",
       "| durApprovalToDelivery | 6 |\n",
       "| durDeliveryToReview   | 6 |\n",
       "\n"
      ],
      "text/plain": [
       "  col                   countNAs\n",
       "1 durPurchaseToDelivery 6       \n",
       "2 durPurchaseToApproval 6       \n",
       "3 durApprovalToDelivery 6       \n",
       "4 durDeliveryToReview   6       "
      ]
     },
     "metadata": {},
     "output_type": "display_data"
    }
   ],
   "source": [
    "# Are there any NAs?\n",
    "rbindlist(lapply(colnames(durationVars), function(colname){\n",
    "    x <- durationVars[, get(colname)]\n",
    "    countNAs <- sum(is.na(x))\n",
    "    return(data.table(col = colname, countNAs = countNAs))\n",
    "}))"
   ]
  },
  {
   "cell_type": "code",
   "execution_count": 43,
   "metadata": {},
   "outputs": [
    {
     "name": "stdout",
     "output_type": "stream",
     "text": [
      "[1] 24120\n",
      "[1] 24114\n"
     ]
    }
   ],
   "source": [
    "# Remove NAs\n",
    "print(nrow(durationVars))\n",
    "durationVars <- na.omit(durationVars)\n",
    "print(nrow(durationVars))"
   ]
  },
  {
   "cell_type": "code",
   "execution_count": 44,
   "metadata": {},
   "outputs": [
    {
     "data": {
      "text/html": [
       "<table>\n",
       "<caption>A matrix: 4 × 4 of type dbl</caption>\n",
       "<thead>\n",
       "\t<tr><th></th><th scope=col>durPurchaseToDelivery</th><th scope=col>durPurchaseToApproval</th><th scope=col>durApprovalToDelivery</th><th scope=col>durDeliveryToReview</th></tr>\n",
       "</thead>\n",
       "<tbody>\n",
       "\t<tr><th scope=row>durPurchaseToDelivery</th><td> 1.000</td><td> 0.080</td><td> 0.996</td><td>-0.274</td></tr>\n",
       "\t<tr><th scope=row>durPurchaseToApproval</th><td> 0.080</td><td> 1.000</td><td>-0.012</td><td> 0.010</td></tr>\n",
       "\t<tr><th scope=row>durApprovalToDelivery</th><td> 0.996</td><td>-0.012</td><td> 1.000</td><td>-0.275</td></tr>\n",
       "\t<tr><th scope=row>durDeliveryToReview</th><td>-0.274</td><td> 0.010</td><td>-0.275</td><td> 1.000</td></tr>\n",
       "</tbody>\n",
       "</table>\n"
      ],
      "text/latex": [
       "A matrix: 4 × 4 of type dbl\n",
       "\\begin{tabular}{r|llll}\n",
       "  & durPurchaseToDelivery & durPurchaseToApproval & durApprovalToDelivery & durDeliveryToReview\\\\\n",
       "\\hline\n",
       "\tdurPurchaseToDelivery &  1.000 &  0.080 &  0.996 & -0.274\\\\\n",
       "\tdurPurchaseToApproval &  0.080 &  1.000 & -0.012 &  0.010\\\\\n",
       "\tdurApprovalToDelivery &  0.996 & -0.012 &  1.000 & -0.275\\\\\n",
       "\tdurDeliveryToReview & -0.274 &  0.010 & -0.275 &  1.000\\\\\n",
       "\\end{tabular}\n"
      ],
      "text/markdown": [
       "\n",
       "A matrix: 4 × 4 of type dbl\n",
       "\n",
       "| <!--/--> | durPurchaseToDelivery | durPurchaseToApproval | durApprovalToDelivery | durDeliveryToReview |\n",
       "|---|---|---|---|---|\n",
       "| durPurchaseToDelivery |  1.000 |  0.080 |  0.996 | -0.274 |\n",
       "| durPurchaseToApproval |  0.080 |  1.000 | -0.012 |  0.010 |\n",
       "| durApprovalToDelivery |  0.996 | -0.012 |  1.000 | -0.275 |\n",
       "| durDeliveryToReview | -0.274 |  0.010 | -0.275 |  1.000 |\n",
       "\n"
      ],
      "text/plain": [
       "                      durPurchaseToDelivery durPurchaseToApproval\n",
       "durPurchaseToDelivery  1.000                 0.080               \n",
       "durPurchaseToApproval  0.080                 1.000               \n",
       "durApprovalToDelivery  0.996                -0.012               \n",
       "durDeliveryToReview   -0.274                 0.010               \n",
       "                      durApprovalToDelivery durDeliveryToReview\n",
       "durPurchaseToDelivery  0.996                -0.274             \n",
       "durPurchaseToApproval -0.012                 0.010             \n",
       "durApprovalToDelivery  1.000                -0.275             \n",
       "durDeliveryToReview   -0.275                 1.000             "
      ]
     },
     "metadata": {},
     "output_type": "display_data"
    }
   ],
   "source": [
    "round(cor(durationVars), 3)"
   ]
  },
  {
   "cell_type": "markdown",
   "metadata": {},
   "source": [
    "* `Approval-To-Delivery` and `Purchase-To-Delivery` have almost perfect correlation.\n",
    "* $\\Rightarrow$ Drop `Approval-To-Delivery` and run regression"
   ]
  },
  {
   "cell_type": "code",
   "execution_count": 45,
   "metadata": {},
   "outputs": [],
   "source": [
    "dataRegression <- dataRegression %>% select(-durApprovalToDelivery)"
   ]
  },
  {
   "cell_type": "markdown",
   "metadata": {},
   "source": [
    "### Regression"
   ]
  },
  {
   "cell_type": "code",
   "execution_count": 70,
   "metadata": {},
   "outputs": [
    {
     "data": {
      "text/plain": [
       "\n",
       "Call:\n",
       "lm(formula = review_score ~ ., data = dataRegression %>% select(-processVariant))\n",
       "\n",
       "Residuals:\n",
       "    Min      1Q  Median      3Q     Max \n",
       "-3.8823 -0.4371  0.4832  0.7396  9.0960 \n",
       "\n",
       "Coefficients: (3 not defined because of singularities)\n",
       "                        Estimate Std. Error t value Pr(>|t|)    \n",
       "(Intercept)            6.132e+00  1.263e-01  48.550  < 2e-16 ***\n",
       "boleto                 5.471e-02  6.738e-02   0.812   0.4168    \n",
       "credit_card           -1.808e-02  6.506e-02  -0.278   0.7811    \n",
       "debit_card            -4.939e-02  9.002e-02  -0.549   0.5833    \n",
       "nmb_pay_types          3.098e-02  5.360e-02   0.578   0.5632    \n",
       "not_defined                   NA         NA      NA       NA    \n",
       "total_installments     4.643e-03  3.293e-03   1.410   0.1585    \n",
       "total_pay_value        1.927e-03  4.587e-04   4.201 2.67e-05 ***\n",
       "voucher                       NA         NA      NA       NA    \n",
       "nmb_items             -2.678e-01  1.836e-02 -14.587  < 2e-16 ***\n",
       "unique_items          -3.671e-03  4.722e-02  -0.078   0.9380    \n",
       "nmb_sellers           -9.449e-01  8.906e-02 -10.609  < 2e-16 ***\n",
       "sum_items_value       -1.997e-03  4.769e-04  -4.186 2.85e-05 ***\n",
       "nmb_categories        -2.351e-01  1.122e-01  -2.096   0.0361 *  \n",
       "avg_desc_length        3.053e-05  1.227e-05   2.488   0.0128 *  \n",
       "avg_ph_quality        -3.783e-03  4.541e-03  -0.833   0.4048    \n",
       "durPurchaseToDelivery -4.528e-02  8.717e-04 -51.947  < 2e-16 ***\n",
       "durPurchaseToApproval  3.014e-03  1.065e-02   0.283   0.7772    \n",
       "durDeliveryToReview    1.295e-03  7.066e-04   1.833   0.0669 .  \n",
       "timestampRanked               NA         NA      NA       NA    \n",
       "---\n",
       "Signif. codes:  0 '***' 0.001 '**' 0.01 '*' 0.05 '.' 0.1 ' ' 1\n",
       "\n",
       "Residual standard error: 1.197 on 23738 degrees of freedom\n",
       "  (365 observations deleted due to missingness)\n",
       "Multiple R-squared:  0.1324,\tAdjusted R-squared:  0.1318 \n",
       "F-statistic: 226.3 on 16 and 23738 DF,  p-value: < 2.2e-16\n"
      ]
     },
     "metadata": {},
     "output_type": "display_data"
    }
   ],
   "source": [
    "simpleLinearModel <- lm(review_score ~ ., dataRegression %>% select(-processVariant))\n",
    "summary(simpleLinearModel)"
   ]
  },
  {
   "cell_type": "markdown",
   "metadata": {},
   "source": [
    "### Show only significant variables"
   ]
  },
  {
   "cell_type": "code",
   "execution_count": 72,
   "metadata": {},
   "outputs": [
    {
     "data": {
      "text/html": [
       "<table>\n",
       "<caption>A matrix: 9 × 4 of type dbl</caption>\n",
       "<thead>\n",
       "\t<tr><th></th><th scope=col>Estimate</th><th scope=col>Std. Error</th><th scope=col>t value</th><th scope=col>Pr(&gt;|t|)</th></tr>\n",
       "</thead>\n",
       "<tbody>\n",
       "\t<tr><th scope=row>(Intercept)</th><td> 6.132209e+00</td><td>1.263080e-01</td><td> 48.549663</td><td>0.000000e+00</td></tr>\n",
       "\t<tr><th scope=row>total_pay_value</th><td> 1.926729e-03</td><td>4.586904e-04</td><td>  4.200500</td><td>2.672972e-05</td></tr>\n",
       "\t<tr><th scope=row>nmb_items</th><td>-2.677603e-01</td><td>1.835563e-02</td><td>-14.587368</td><td>5.453885e-48</td></tr>\n",
       "\t<tr><th scope=row>nmb_sellers</th><td>-9.448769e-01</td><td>8.906110e-02</td><td>-10.609311</td><td>3.088302e-26</td></tr>\n",
       "\t<tr><th scope=row>sum_items_value</th><td>-1.996566e-03</td><td>4.769275e-04</td><td> -4.186309</td><td>2.845488e-05</td></tr>\n",
       "\t<tr><th scope=row>nmb_categories</th><td>-2.351047e-01</td><td>1.121683e-01</td><td> -2.096000</td><td>3.609276e-02</td></tr>\n",
       "\t<tr><th scope=row>avg_desc_length</th><td> 3.052844e-05</td><td>1.226874e-05</td><td>  2.488312</td><td>1.284192e-02</td></tr>\n",
       "\t<tr><th scope=row>durPurchaseToDelivery</th><td>-4.528390e-02</td><td>8.717401e-04</td><td>-51.946557</td><td>0.000000e+00</td></tr>\n",
       "\t<tr><th scope=row>durDeliveryToReview</th><td> 1.294927e-03</td><td>7.065989e-04</td><td>  1.832620</td><td>6.687161e-02</td></tr>\n",
       "</tbody>\n",
       "</table>\n"
      ],
      "text/latex": [
       "A matrix: 9 × 4 of type dbl\n",
       "\\begin{tabular}{r|llll}\n",
       "  & Estimate & Std. Error & t value & Pr(>\\textbar{}t\\textbar{})\\\\\n",
       "\\hline\n",
       "\t(Intercept) &  6.132209e+00 & 1.263080e-01 &  48.549663 & 0.000000e+00\\\\\n",
       "\ttotal\\_pay\\_value &  1.926729e-03 & 4.586904e-04 &   4.200500 & 2.672972e-05\\\\\n",
       "\tnmb\\_items & -2.677603e-01 & 1.835563e-02 & -14.587368 & 5.453885e-48\\\\\n",
       "\tnmb\\_sellers & -9.448769e-01 & 8.906110e-02 & -10.609311 & 3.088302e-26\\\\\n",
       "\tsum\\_items\\_value & -1.996566e-03 & 4.769275e-04 &  -4.186309 & 2.845488e-05\\\\\n",
       "\tnmb\\_categories & -2.351047e-01 & 1.121683e-01 &  -2.096000 & 3.609276e-02\\\\\n",
       "\tavg\\_desc\\_length &  3.052844e-05 & 1.226874e-05 &   2.488312 & 1.284192e-02\\\\\n",
       "\tdurPurchaseToDelivery & -4.528390e-02 & 8.717401e-04 & -51.946557 & 0.000000e+00\\\\\n",
       "\tdurDeliveryToReview &  1.294927e-03 & 7.065989e-04 &   1.832620 & 6.687161e-02\\\\\n",
       "\\end{tabular}\n"
      ],
      "text/markdown": [
       "\n",
       "A matrix: 9 × 4 of type dbl\n",
       "\n",
       "| <!--/--> | Estimate | Std. Error | t value | Pr(&gt;|t|) |\n",
       "|---|---|---|---|---|\n",
       "| (Intercept) |  6.132209e+00 | 1.263080e-01 |  48.549663 | 0.000000e+00 |\n",
       "| total_pay_value |  1.926729e-03 | 4.586904e-04 |   4.200500 | 2.672972e-05 |\n",
       "| nmb_items | -2.677603e-01 | 1.835563e-02 | -14.587368 | 5.453885e-48 |\n",
       "| nmb_sellers | -9.448769e-01 | 8.906110e-02 | -10.609311 | 3.088302e-26 |\n",
       "| sum_items_value | -1.996566e-03 | 4.769275e-04 |  -4.186309 | 2.845488e-05 |\n",
       "| nmb_categories | -2.351047e-01 | 1.121683e-01 |  -2.096000 | 3.609276e-02 |\n",
       "| avg_desc_length |  3.052844e-05 | 1.226874e-05 |   2.488312 | 1.284192e-02 |\n",
       "| durPurchaseToDelivery | -4.528390e-02 | 8.717401e-04 | -51.946557 | 0.000000e+00 |\n",
       "| durDeliveryToReview |  1.294927e-03 | 7.065989e-04 |   1.832620 | 6.687161e-02 |\n",
       "\n"
      ],
      "text/plain": [
       "                      Estimate      Std. Error   t value    Pr(>|t|)    \n",
       "(Intercept)            6.132209e+00 1.263080e-01  48.549663 0.000000e+00\n",
       "total_pay_value        1.926729e-03 4.586904e-04   4.200500 2.672972e-05\n",
       "nmb_items             -2.677603e-01 1.835563e-02 -14.587368 5.453885e-48\n",
       "nmb_sellers           -9.448769e-01 8.906110e-02 -10.609311 3.088302e-26\n",
       "sum_items_value       -1.996566e-03 4.769275e-04  -4.186309 2.845488e-05\n",
       "nmb_categories        -2.351047e-01 1.121683e-01  -2.096000 3.609276e-02\n",
       "avg_desc_length        3.052844e-05 1.226874e-05   2.488312 1.284192e-02\n",
       "durPurchaseToDelivery -4.528390e-02 8.717401e-04 -51.946557 0.000000e+00\n",
       "durDeliveryToReview    1.294927e-03 7.065989e-04   1.832620 6.687161e-02"
      ]
     },
     "metadata": {},
     "output_type": "display_data"
    }
   ],
   "source": [
    "smry <- summary(simpleLinearModel)\n",
    "smry <- smry$coefficients\n",
    "smry <- subset(smry, smry[,4] < 0.1)\n",
    "smry"
   ]
  },
  {
   "cell_type": "markdown",
   "metadata": {},
   "source": [
    "* `nmb_items` has a signficant negative coefficient\n",
    "    - As you order more items, the order might take longer\n",
    "    - $\\Rightarrow$ Does nmb_items correlate with `durPurchaseToDelivery`?\n",
    "* `total_pay_value` has a significant positive coefficient\n",
    "    - Maybe customers who have already ordered at OLIST tend to order larger volumes. But since they have already ordered, they must have been already satisfied before (\"self-selection\")\n",
    "* **Duration between purchase and delivery** has a significant negative relationship with the review-score:\n",
    "    - As the duration takes 1 day longer, you expect a review with 0.045 less stars.\n",
    "* **Duration between delivery and review** has a significant positive relationship with the review-score:\n",
    "    - Unsatisfied customers are quicker with their reviews, as they want to express their rage immediatly (?)\n",
    " "
   ]
  },
  {
   "cell_type": "code",
   "execution_count": 47,
   "metadata": {},
   "outputs": [
    {
     "data": {
      "text/html": [
       "-0.0204554430409856"
      ],
      "text/latex": [
       "-0.0204554430409856"
      ],
      "text/markdown": [
       "-0.0204554430409856"
      ],
      "text/plain": [
       "[1] -0.02045544"
      ]
     },
     "metadata": {},
     "output_type": "display_data"
    }
   ],
   "source": [
    "cor(dataRegression$nmb_items, dataRegression$durPurchaseToDelivery, use = \"complete.obs\")"
   ]
  },
  {
   "cell_type": "code",
   "execution_count": 48,
   "metadata": {},
   "outputs": [
    {
     "data": {
      "image/png": "[encoded data removed]",
      "text/plain": [
       "plot without title"
      ]
     },
     "metadata": {
      "image/png": {
       "height": 420,
       "width": 420
      }
     },
     "output_type": "display_data"
    }
   ],
   "source": [
    "ggplot(dataRegression, aes(x = nmb_items, y = durPurchaseToDelivery)) +\n",
    "    geom_point()"
   ]
  },
  {
   "cell_type": "markdown",
   "metadata": {},
   "source": [
    "### New regression with variable `processVariants`"
   ]
  },
  {
   "cell_type": "code",
   "execution_count": 74,
   "metadata": {},
   "outputs": [
    {
     "data": {
      "text/html": [
       "<table>\n",
       "<caption>A matrix: 15 × 4 of type dbl</caption>\n",
       "<thead>\n",
       "\t<tr><th></th><th scope=col>Estimate</th><th scope=col>Std. Error</th><th scope=col>t value</th><th scope=col>Pr(&gt;|t|)</th></tr>\n",
       "</thead>\n",
       "<tbody>\n",
       "\t<tr><th scope=row>(Intercept)</th><td> 6.050636e+00</td><td>0.2191535513</td><td> 27.609116</td><td>3.540703e-165</td></tr>\n",
       "\t<tr><th scope=row>nmb_items</th><td>-2.488375e-01</td><td>0.0174555143</td><td>-14.255524</td><td> 6.413549e-46</td></tr>\n",
       "\t<tr><th scope=row>nmb_sellers</th><td>-9.607547e-01</td><td>0.0848898794</td><td>-11.317658</td><td> 1.278297e-29</td></tr>\n",
       "\t<tr><th scope=row>nmb_categories</th><td>-2.087404e-01</td><td>0.1067907042</td><td> -1.954668</td><td> 5.063402e-02</td></tr>\n",
       "\t<tr><th scope=row>avg_desc_length</th><td> 2.763133e-05</td><td>0.0000116545</td><td>  2.370872</td><td> 1.775413e-02</td></tr>\n",
       "\t<tr><th scope=row>durPurchaseToDelivery</th><td>-1.633202e-02</td><td>0.0010114611</td><td>-16.146958</td><td> 2.443795e-58</td></tr>\n",
       "\t<tr><th scope=row>durDeliveryToReview</th><td>-2.944482e-03</td><td>0.0006769976</td><td> -4.349324</td><td> 1.371274e-05</td></tr>\n",
       "\t<tr><th scope=row>processVariantprchs--&gt;dlvr_crrr--&gt;pprv--&gt;snt t rvw srvy t cstmr--&gt;cstmr prvds rvw--&gt;dlvr_cstmr</th><td>-2.049033e+00</td><td>0.5443492236</td><td> -3.764188</td><td> 1.674939e-04</td></tr>\n",
       "\t<tr><th scope=row>processVariantprchs--&gt;pprv--&gt;dlvr_crrr--&gt;dlvr_cstmr--&gt;snt t rvw srvy t cstmr--&gt;snt t rvw srvy t cstmr--&gt;cstmr prvds rvw--&gt;cstmr prvds rvw--&gt;snt t rvw srvy t cstmr--&gt;cstmr prvds rvw</th><td>-3.541194e+00</td><td>1.1520544022</td><td> -3.073808</td><td> 2.115856e-03</td></tr>\n",
       "\t<tr><th scope=row>processVariantprchs--&gt;pprv--&gt;dlvr_crrr--&gt;snt t rvw srvy t cstmr--&gt;cstmr prvds rvw--&gt;dlvr_cstmr</th><td>-2.356196e+00</td><td>0.1902927938</td><td>-12.381952</td><td> 4.202427e-35</td></tr>\n",
       "\t<tr><th scope=row>processVariantprchs--&gt;pprv--&gt;dlvr_crrr--&gt;snt t rvw srvy t cstmr--&gt;cstmr prvds rvw--&gt;snt t rvw srvy t cstmr--&gt;cstmr prvds rvw--&gt;dlvr_cstmr</th><td>-3.006069e+00</td><td>1.1525531069</td><td> -2.608183</td><td> 9.108148e-03</td></tr>\n",
       "\t<tr><th scope=row>processVariantprchs--&gt;pprv--&gt;dlvr_crrr--&gt;snt t rvw srvy t cstmr--&gt;snt t rvw srvy t cstmr--&gt;cstmr prvds rvw--&gt;cstmr prvds rvw--&gt;dlvr_cstmr</th><td>-2.400653e+00</td><td>0.8263238836</td><td> -2.905220</td><td> 3.673339e-03</td></tr>\n",
       "\t<tr><th scope=row>processVariantprchs--&gt;pprv--&gt;snt t rvw srvy t cstmr--&gt;cstmr prvds rvw--&gt;dlvr_crrr--&gt;dlvr_cstmr</th><td>-2.353822e+00</td><td>0.2510475702</td><td> -9.376000</td><td> 7.446283e-21</td></tr>\n",
       "\t<tr><th scope=row>processVariantprchs--&gt;pprv--&gt;snt t rvw srvy t cstmr--&gt;dlvr_crrr--&gt;cstmr prvds rvw--&gt;dlvr_cstmr</th><td>-2.295058e+00</td><td>0.3770653933</td><td> -6.086632</td><td> 1.170799e-09</td></tr>\n",
       "\t<tr><th scope=row>processVariantprchs--&gt;pprv--&gt;snt t rvw srvy t cstmr--&gt;dlvr_crrr--&gt;dlvr_cstmr--&gt;cstmr prvds rvw</th><td>-2.240751e+00</td><td>0.8252760300</td><td> -2.715153</td><td> 6.629303e-03</td></tr>\n",
       "</tbody>\n",
       "</table>\n"
      ],
      "text/latex": [
       "A matrix: 15 × 4 of type dbl\n",
       "\\begin{tabular}{r|llll}\n",
       "  & Estimate & Std. Error & t value & Pr(>\\textbar{}t\\textbar{})\\\\\n",
       "\\hline\n",
       "\t(Intercept) &  6.050636e+00 & 0.2191535513 &  27.609116 & 3.540703e-165\\\\\n",
       "\tnmb\\_items & -2.488375e-01 & 0.0174555143 & -14.255524 &  6.413549e-46\\\\\n",
       "\tnmb\\_sellers & -9.607547e-01 & 0.0848898794 & -11.317658 &  1.278297e-29\\\\\n",
       "\tnmb\\_categories & -2.087404e-01 & 0.1067907042 &  -1.954668 &  5.063402e-02\\\\\n",
       "\tavg\\_desc\\_length &  2.763133e-05 & 0.0000116545 &   2.370872 &  1.775413e-02\\\\\n",
       "\tdurPurchaseToDelivery & -1.633202e-02 & 0.0010114611 & -16.146958 &  2.443795e-58\\\\\n",
       "\tdurDeliveryToReview & -2.944482e-03 & 0.0006769976 &  -4.349324 &  1.371274e-05\\\\\n",
       "\tprocessVariantprchs-->dlvr\\_crrr-->pprv-->snt t rvw srvy t cstmr-->cstmr prvds rvw-->dlvr\\_cstmr & -2.049033e+00 & 0.5443492236 &  -3.764188 &  1.674939e-04\\\\\n",
       "\tprocessVariantprchs-->pprv-->dlvr\\_crrr-->dlvr\\_cstmr-->snt t rvw srvy t cstmr-->snt t rvw srvy t cstmr-->cstmr prvds rvw-->cstmr prvds rvw-->snt t rvw srvy t cstmr-->cstmr prvds rvw & -3.541194e+00 & 1.1520544022 &  -3.073808 &  2.115856e-03\\\\\n",
       "\tprocessVariantprchs-->pprv-->dlvr\\_crrr-->snt t rvw srvy t cstmr-->cstmr prvds rvw-->dlvr\\_cstmr & -2.356196e+00 & 0.1902927938 & -12.381952 &  4.202427e-35\\\\\n",
       "\tprocessVariantprchs-->pprv-->dlvr\\_crrr-->snt t rvw srvy t cstmr-->cstmr prvds rvw-->snt t rvw srvy t cstmr-->cstmr prvds rvw-->dlvr\\_cstmr & -3.006069e+00 & 1.1525531069 &  -2.608183 &  9.108148e-03\\\\\n",
       "\tprocessVariantprchs-->pprv-->dlvr\\_crrr-->snt t rvw srvy t cstmr-->snt t rvw srvy t cstmr-->cstmr prvds rvw-->cstmr prvds rvw-->dlvr\\_cstmr & -2.400653e+00 & 0.8263238836 &  -2.905220 &  3.673339e-03\\\\\n",
       "\tprocessVariantprchs-->pprv-->snt t rvw srvy t cstmr-->cstmr prvds rvw-->dlvr\\_crrr-->dlvr\\_cstmr & -2.353822e+00 & 0.2510475702 &  -9.376000 &  7.446283e-21\\\\\n",
       "\tprocessVariantprchs-->pprv-->snt t rvw srvy t cstmr-->dlvr\\_crrr-->cstmr prvds rvw-->dlvr\\_cstmr & -2.295058e+00 & 0.3770653933 &  -6.086632 &  1.170799e-09\\\\\n",
       "\tprocessVariantprchs-->pprv-->snt t rvw srvy t cstmr-->dlvr\\_crrr-->dlvr\\_cstmr-->cstmr prvds rvw & -2.240751e+00 & 0.8252760300 &  -2.715153 &  6.629303e-03\\\\\n",
       "\\end{tabular}\n"
      ],
      "text/markdown": [
       "\n",
       "A matrix: 15 × 4 of type dbl\n",
       "\n",
       "| <!--/--> | Estimate | Std. Error | t value | Pr(&gt;|t|) |\n",
       "|---|---|---|---|---|\n",
       "| (Intercept) |  6.050636e+00 | 0.2191535513 |  27.609116 | 3.540703e-165 |\n",
       "| nmb_items | -2.488375e-01 | 0.0174555143 | -14.255524 |  6.413549e-46 |\n",
       "| nmb_sellers | -9.607547e-01 | 0.0848898794 | -11.317658 |  1.278297e-29 |\n",
       "| nmb_categories | -2.087404e-01 | 0.1067907042 |  -1.954668 |  5.063402e-02 |\n",
       "| avg_desc_length |  2.763133e-05 | 0.0000116545 |   2.370872 |  1.775413e-02 |\n",
       "| durPurchaseToDelivery | -1.633202e-02 | 0.0010114611 | -16.146958 |  2.443795e-58 |\n",
       "| durDeliveryToReview | -2.944482e-03 | 0.0006769976 |  -4.349324 |  1.371274e-05 |\n",
       "| processVariantprchs--&gt;dlvr_crrr--&gt;pprv--&gt;snt t rvw srvy t cstmr--&gt;cstmr prvds rvw--&gt;dlvr_cstmr | -2.049033e+00 | 0.5443492236 |  -3.764188 |  1.674939e-04 |\n",
       "| processVariantprchs--&gt;pprv--&gt;dlvr_crrr--&gt;dlvr_cstmr--&gt;snt t rvw srvy t cstmr--&gt;snt t rvw srvy t cstmr--&gt;cstmr prvds rvw--&gt;cstmr prvds rvw--&gt;snt t rvw srvy t cstmr--&gt;cstmr prvds rvw | -3.541194e+00 | 1.1520544022 |  -3.073808 |  2.115856e-03 |\n",
       "| processVariantprchs--&gt;pprv--&gt;dlvr_crrr--&gt;snt t rvw srvy t cstmr--&gt;cstmr prvds rvw--&gt;dlvr_cstmr | -2.356196e+00 | 0.1902927938 | -12.381952 |  4.202427e-35 |\n",
       "| processVariantprchs--&gt;pprv--&gt;dlvr_crrr--&gt;snt t rvw srvy t cstmr--&gt;cstmr prvds rvw--&gt;snt t rvw srvy t cstmr--&gt;cstmr prvds rvw--&gt;dlvr_cstmr | -3.006069e+00 | 1.1525531069 |  -2.608183 |  9.108148e-03 |\n",
       "| processVariantprchs--&gt;pprv--&gt;dlvr_crrr--&gt;snt t rvw srvy t cstmr--&gt;snt t rvw srvy t cstmr--&gt;cstmr prvds rvw--&gt;cstmr prvds rvw--&gt;dlvr_cstmr | -2.400653e+00 | 0.8263238836 |  -2.905220 |  3.673339e-03 |\n",
       "| processVariantprchs--&gt;pprv--&gt;snt t rvw srvy t cstmr--&gt;cstmr prvds rvw--&gt;dlvr_crrr--&gt;dlvr_cstmr | -2.353822e+00 | 0.2510475702 |  -9.376000 |  7.446283e-21 |\n",
       "| processVariantprchs--&gt;pprv--&gt;snt t rvw srvy t cstmr--&gt;dlvr_crrr--&gt;cstmr prvds rvw--&gt;dlvr_cstmr | -2.295058e+00 | 0.3770653933 |  -6.086632 |  1.170799e-09 |\n",
       "| processVariantprchs--&gt;pprv--&gt;snt t rvw srvy t cstmr--&gt;dlvr_crrr--&gt;dlvr_cstmr--&gt;cstmr prvds rvw | -2.240751e+00 | 0.8252760300 |  -2.715153 |  6.629303e-03 |\n",
       "\n"
      ],
      "text/plain": [
       "                                                                                                                                                                                     Estimate     \n",
       "(Intercept)                                                                                                                                                                           6.050636e+00\n",
       "nmb_items                                                                                                                                                                            -2.488375e-01\n",
       "nmb_sellers                                                                                                                                                                          -9.607547e-01\n",
       "nmb_categories                                                                                                                                                                       -2.087404e-01\n",
       "avg_desc_length                                                                                                                                                                       2.763133e-05\n",
       "durPurchaseToDelivery                                                                                                                                                                -1.633202e-02\n",
       "durDeliveryToReview                                                                                                                                                                  -2.944482e-03\n",
       "processVariantprchs-->dlvr_crrr-->pprv-->snt t rvw srvy t cstmr-->cstmr prvds rvw-->dlvr_cstmr                                                                                       -2.049033e+00\n",
       "processVariantprchs-->pprv-->dlvr_crrr-->dlvr_cstmr-->snt t rvw srvy t cstmr-->snt t rvw srvy t cstmr-->cstmr prvds rvw-->cstmr prvds rvw-->snt t rvw srvy t cstmr-->cstmr prvds rvw -3.541194e+00\n",
       "processVariantprchs-->pprv-->dlvr_crrr-->snt t rvw srvy t cstmr-->cstmr prvds rvw-->dlvr_cstmr                                                                                       -2.356196e+00\n",
       "processVariantprchs-->pprv-->dlvr_crrr-->snt t rvw srvy t cstmr-->cstmr prvds rvw-->snt t rvw srvy t cstmr-->cstmr prvds rvw-->dlvr_cstmr                                            -3.006069e+00\n",
       "processVariantprchs-->pprv-->dlvr_crrr-->snt t rvw srvy t cstmr-->snt t rvw srvy t cstmr-->cstmr prvds rvw-->cstmr prvds rvw-->dlvr_cstmr                                            -2.400653e+00\n",
       "processVariantprchs-->pprv-->snt t rvw srvy t cstmr-->cstmr prvds rvw-->dlvr_crrr-->dlvr_cstmr                                                                                       -2.353822e+00\n",
       "processVariantprchs-->pprv-->snt t rvw srvy t cstmr-->dlvr_crrr-->cstmr prvds rvw-->dlvr_cstmr                                                                                       -2.295058e+00\n",
       "processVariantprchs-->pprv-->snt t rvw srvy t cstmr-->dlvr_crrr-->dlvr_cstmr-->cstmr prvds rvw                                                                                       -2.240751e+00\n",
       "                                                                                                                                                                                     Std. Error  \n",
       "(Intercept)                                                                                                                                                                          0.2191535513\n",
       "nmb_items                                                                                                                                                                            0.0174555143\n",
       "nmb_sellers                                                                                                                                                                          0.0848898794\n",
       "nmb_categories                                                                                                                                                                       0.1067907042\n",
       "avg_desc_length                                                                                                                                                                      0.0000116545\n",
       "durPurchaseToDelivery                                                                                                                                                                0.0010114611\n",
       "durDeliveryToReview                                                                                                                                                                  0.0006769976\n",
       "processVariantprchs-->dlvr_crrr-->pprv-->snt t rvw srvy t cstmr-->cstmr prvds rvw-->dlvr_cstmr                                                                                       0.5443492236\n",
       "processVariantprchs-->pprv-->dlvr_crrr-->dlvr_cstmr-->snt t rvw srvy t cstmr-->snt t rvw srvy t cstmr-->cstmr prvds rvw-->cstmr prvds rvw-->snt t rvw srvy t cstmr-->cstmr prvds rvw 1.1520544022\n",
       "processVariantprchs-->pprv-->dlvr_crrr-->snt t rvw srvy t cstmr-->cstmr prvds rvw-->dlvr_cstmr                                                                                       0.1902927938\n",
       "processVariantprchs-->pprv-->dlvr_crrr-->snt t rvw srvy t cstmr-->cstmr prvds rvw-->snt t rvw srvy t cstmr-->cstmr prvds rvw-->dlvr_cstmr                                            1.1525531069\n",
       "processVariantprchs-->pprv-->dlvr_crrr-->snt t rvw srvy t cstmr-->snt t rvw srvy t cstmr-->cstmr prvds rvw-->cstmr prvds rvw-->dlvr_cstmr                                            0.8263238836\n",
       "processVariantprchs-->pprv-->snt t rvw srvy t cstmr-->cstmr prvds rvw-->dlvr_crrr-->dlvr_cstmr                                                                                       0.2510475702\n",
       "processVariantprchs-->pprv-->snt t rvw srvy t cstmr-->dlvr_crrr-->cstmr prvds rvw-->dlvr_cstmr                                                                                       0.3770653933\n",
       "processVariantprchs-->pprv-->snt t rvw srvy t cstmr-->dlvr_crrr-->dlvr_cstmr-->cstmr prvds rvw                                                                                       0.8252760300\n",
       "                                                                                                                                                                                     t value   \n",
       "(Intercept)                                                                                                                                                                           27.609116\n",
       "nmb_items                                                                                                                                                                            -14.255524\n",
       "nmb_sellers                                                                                                                                                                          -11.317658\n",
       "nmb_categories                                                                                                                                                                        -1.954668\n",
       "avg_desc_length                                                                                                                                                                        2.370872\n",
       "durPurchaseToDelivery                                                                                                                                                                -16.146958\n",
       "durDeliveryToReview                                                                                                                                                                   -4.349324\n",
       "processVariantprchs-->dlvr_crrr-->pprv-->snt t rvw srvy t cstmr-->cstmr prvds rvw-->dlvr_cstmr                                                                                        -3.764188\n",
       "processVariantprchs-->pprv-->dlvr_crrr-->dlvr_cstmr-->snt t rvw srvy t cstmr-->snt t rvw srvy t cstmr-->cstmr prvds rvw-->cstmr prvds rvw-->snt t rvw srvy t cstmr-->cstmr prvds rvw  -3.073808\n",
       "processVariantprchs-->pprv-->dlvr_crrr-->snt t rvw srvy t cstmr-->cstmr prvds rvw-->dlvr_cstmr                                                                                       -12.381952\n",
       "processVariantprchs-->pprv-->dlvr_crrr-->snt t rvw srvy t cstmr-->cstmr prvds rvw-->snt t rvw srvy t cstmr-->cstmr prvds rvw-->dlvr_cstmr                                             -2.608183\n",
       "processVariantprchs-->pprv-->dlvr_crrr-->snt t rvw srvy t cstmr-->snt t rvw srvy t cstmr-->cstmr prvds rvw-->cstmr prvds rvw-->dlvr_cstmr                                             -2.905220\n",
       "processVariantprchs-->pprv-->snt t rvw srvy t cstmr-->cstmr prvds rvw-->dlvr_crrr-->dlvr_cstmr                                                                                        -9.376000\n",
       "processVariantprchs-->pprv-->snt t rvw srvy t cstmr-->dlvr_crrr-->cstmr prvds rvw-->dlvr_cstmr                                                                                        -6.086632\n",
       "processVariantprchs-->pprv-->snt t rvw srvy t cstmr-->dlvr_crrr-->dlvr_cstmr-->cstmr prvds rvw                                                                                        -2.715153\n",
       "                                                                                                                                                                                     Pr(>|t|)     \n",
       "(Intercept)                                                                                                                                                                          3.540703e-165\n",
       "nmb_items                                                                                                                                                                             6.413549e-46\n",
       "nmb_sellers                                                                                                                                                                           1.278297e-29\n",
       "nmb_categories                                                                                                                                                                        5.063402e-02\n",
       "avg_desc_length                                                                                                                                                                       1.775413e-02\n",
       "durPurchaseToDelivery                                                                                                                                                                 2.443795e-58\n",
       "durDeliveryToReview                                                                                                                                                                   1.371274e-05\n",
       "processVariantprchs-->dlvr_crrr-->pprv-->snt t rvw srvy t cstmr-->cstmr prvds rvw-->dlvr_cstmr                                                                                        1.674939e-04\n",
       "processVariantprchs-->pprv-->dlvr_crrr-->dlvr_cstmr-->snt t rvw srvy t cstmr-->snt t rvw srvy t cstmr-->cstmr prvds rvw-->cstmr prvds rvw-->snt t rvw srvy t cstmr-->cstmr prvds rvw  2.115856e-03\n",
       "processVariantprchs-->pprv-->dlvr_crrr-->snt t rvw srvy t cstmr-->cstmr prvds rvw-->dlvr_cstmr                                                                                        4.202427e-35\n",
       "processVariantprchs-->pprv-->dlvr_crrr-->snt t rvw srvy t cstmr-->cstmr prvds rvw-->snt t rvw srvy t cstmr-->cstmr prvds rvw-->dlvr_cstmr                                             9.108148e-03\n",
       "processVariantprchs-->pprv-->dlvr_crrr-->snt t rvw srvy t cstmr-->snt t rvw srvy t cstmr-->cstmr prvds rvw-->cstmr prvds rvw-->dlvr_cstmr                                             3.673339e-03\n",
       "processVariantprchs-->pprv-->snt t rvw srvy t cstmr-->cstmr prvds rvw-->dlvr_crrr-->dlvr_cstmr                                                                                        7.446283e-21\n",
       "processVariantprchs-->pprv-->snt t rvw srvy t cstmr-->dlvr_crrr-->cstmr prvds rvw-->dlvr_cstmr                                                                                        1.170799e-09\n",
       "processVariantprchs-->pprv-->snt t rvw srvy t cstmr-->dlvr_crrr-->dlvr_cstmr-->cstmr prvds rvw                                                                                        6.629303e-03"
      ]
     },
     "metadata": {},
     "output_type": "display_data"
    }
   ],
   "source": [
    "simpleLinearModel <- lm(review_score ~ ., dataRegression)\n",
    "smry <- summary(simpleLinearModel)\n",
    "smry <- smry$coefficients\n",
    "smry <- subset(smry, smry[,4] < 0.1)\n",
    "smry"
   ]
  },
  {
   "cell_type": "code",
   "execution_count": 62,
   "metadata": {},
   "outputs": [
    {
     "data": {
      "text/html": [
       "<dl class=dl-horizontal>\n",
       "\t<dt>purchase</dt>\n",
       "\t\t<dd>'prchs'</dd>\n",
       "\t<dt>approve</dt>\n",
       "\t\t<dd>'pprv'</dd>\n",
       "\t<dt>deliever_carrier</dt>\n",
       "\t\t<dd>'dlvr_crrr'</dd>\n",
       "\t<dt>deliever_customer</dt>\n",
       "\t\t<dd>'dlvr_cstmr'</dd>\n",
       "\t<dt>sent out review survey to customer</dt>\n",
       "\t\t<dd>'snt t rvw srvy t cstmr'</dd>\n",
       "\t<dt>customer provides review</dt>\n",
       "\t\t<dd>'cstmr prvds rvw'</dd>\n",
       "</dl>\n"
      ],
      "text/latex": [
       "\\begin{description*}\n",
       "\\item[purchase] 'prchs'\n",
       "\\item[approve] 'pprv'\n",
       "\\item[deliever\\textbackslash{}\\_carrier] 'dlvr\\_crrr'\n",
       "\\item[deliever\\textbackslash{}\\_customer] 'dlvr\\_cstmr'\n",
       "\\item[sent out review survey to customer] 'snt t rvw srvy t cstmr'\n",
       "\\item[customer provides review] 'cstmr prvds rvw'\n",
       "\\end{description*}\n"
      ],
      "text/markdown": [
       "purchase\n",
       ":   'prchs'approve\n",
       ":   'pprv'deliever_carrier\n",
       ":   'dlvr_crrr'deliever_customer\n",
       ":   'dlvr_cstmr'sent out review survey to customer\n",
       ":   'snt t rvw srvy t cstmr'customer provides review\n",
       ":   'cstmr prvds rvw'\n",
       "\n"
      ],
      "text/plain": [
       "                          purchase                            approve \n",
       "                           \"prchs\"                             \"pprv\" \n",
       "                  deliever_carrier                  deliever_customer \n",
       "                       \"dlvr_crrr\"                       \"dlvr_cstmr\" \n",
       "sent out review survey to customer           customer provides review \n",
       "          \"snt t rvw srvy t cstmr\"                  \"cstmr prvds rvw\" "
      ]
     },
     "metadata": {},
     "output_type": "display_data"
    }
   ],
   "source": [
    "sapply(unique(eventlog$activity), RemoveVowels)"
   ]
  },
  {
   "cell_type": "markdown",
   "metadata": {},
   "source": [
    "### Interpretation\n",
    "\n",
    "* `prchs-->dlvr_crrr-->pprv-->snt t rvw srvy t cstmr-->cstmr prvds rvw-->dlvr_cstmr`\n",
    "    - negative sign. coefficient: Customer provided review before the order was delivered => The review isn't based on the goods he received, but rather on the delivery service. \n",
    "* `prchs-->pprv-->dlvr_crrr-->snt t rvw srvy t cstmr-->snt t rvw srvy t cstmr-->cstmr prvds rvw-->cstmr prvds rvw-->dlvr_cstmr`\n",
    "    - survey was sent twice? Review provided twice? Strange...Maybe data error or fault on my part (highly unlikely ;))\n",
    "* ...\n",
    "    "
   ]
  },
  {
   "cell_type": "code",
   "execution_count": 75,
   "metadata": {},
   "outputs": [
    {
     "data": {
      "text/plain": [
       "\n",
       "Call:\n",
       "lm(formula = review_score ~ ., data = dataRegression)\n",
       "\n",
       "Residuals:\n",
       "    Min      1Q  Median      3Q     Max \n",
       "-3.5935 -0.3939  0.5652  0.6768  5.5794 \n",
       "\n",
       "Coefficients: (3 not defined because of singularities)\n",
       "                                                                                                                                                                                       Estimate\n",
       "(Intercept)                                                                                                                                                                           6.051e+00\n",
       "boleto                                                                                                                                                                                4.533e-02\n",
       "credit_card                                                                                                                                                                           9.042e-03\n",
       "debit_card                                                                                                                                                                           -9.118e-03\n",
       "nmb_pay_types                                                                                                                                                                         5.718e-03\n",
       "not_defined                                                                                                                                                                                  NA\n",
       "total_installments                                                                                                                                                                    1.241e-03\n",
       "total_pay_value                                                                                                                                                                       1.967e-05\n",
       "voucher                                                                                                                                                                                      NA\n",
       "nmb_items                                                                                                                                                                            -2.488e-01\n",
       "unique_items                                                                                                                                                                          1.376e-02\n",
       "nmb_sellers                                                                                                                                                                          -9.608e-01\n",
       "sum_items_value                                                                                                                                                                      -4.345e-05\n",
       "nmb_categories                                                                                                                                                                       -2.087e-01\n",
       "avg_desc_length                                                                                                                                                                       2.763e-05\n",
       "avg_ph_quality                                                                                                                                                                       -1.877e-03\n",
       "durPurchaseToDelivery                                                                                                                                                                -1.633e-02\n",
       "durPurchaseToApproval                                                                                                                                                                -8.144e-03\n",
       "durDeliveryToReview                                                                                                                                                                  -2.944e-03\n",
       "timestampRanked                                                                                                                                                                              NA\n",
       "processVariantdlvr_crrr-->prchs-->pprv-->snt t rvw srvy t cstmr-->dlvr_cstmr-->cstmr prvds rvw                                                                                       -5.547e-02\n",
       "processVariantprchs-->dlvr_crrr-->dlvr_cstmr-->pprv-->snt t rvw srvy t cstmr-->cstmr prvds rvw                                                                                       -1.552e-01\n",
       "processVariantprchs-->dlvr_crrr-->dlvr_cstmr-->snt t rvw srvy t cstmr-->cstmr prvds rvw-->pprv                                                                                       -1.407e+00\n",
       "processVariantprchs-->dlvr_crrr-->dlvr_cstmr-->snt t rvw srvy t cstmr-->pprv-->cstmr prvds rvw                                                                                       -6.187e-01\n",
       "processVariantprchs-->dlvr_crrr-->pprv-->dlvr_cstmr-->snt t rvw srvy t cstmr-->cstmr prvds rvw                                                                                       -9.338e-02\n",
       "processVariantprchs-->dlvr_crrr-->pprv-->dlvr_cstmr-->snt t rvw srvy t cstmr-->snt t rvw srvy t cstmr-->cstmr prvds rvw-->cstmr prvds rvw                                            -5.994e-01\n",
       "processVariantprchs-->dlvr_crrr-->pprv-->snt t rvw srvy t cstmr-->cstmr prvds rvw-->dlvr_cstmr                                                                                       -2.049e+00\n",
       "processVariantprchs-->dlvr_crrr-->pprv-->snt t rvw srvy t cstmr-->dlvr_cstmr-->cstmr prvds rvw                                                                                        9.434e-02\n",
       "processVariantprchs-->pprv-->dlvr_crrr-->dlvr_cstmr-->snt t rvw srvy t cstmr-->cstmr prvds rvw                                                                                       -1.533e-01\n",
       "processVariantprchs-->pprv-->dlvr_crrr-->dlvr_cstmr-->snt t rvw srvy t cstmr-->cstmr prvds rvw-->snt t rvw srvy t cstmr-->cstmr prvds rvw                                            -3.762e-01\n",
       "processVariantprchs-->pprv-->dlvr_crrr-->dlvr_cstmr-->snt t rvw srvy t cstmr-->snt t rvw srvy t cstmr-->cstmr prvds rvw-->cstmr prvds rvw                                             2.002e-01\n",
       "processVariantprchs-->pprv-->dlvr_crrr-->dlvr_cstmr-->snt t rvw srvy t cstmr-->snt t rvw srvy t cstmr-->cstmr prvds rvw-->cstmr prvds rvw-->snt t rvw srvy t cstmr-->cstmr prvds rvw -3.541e+00\n",
       "processVariantprchs-->pprv-->dlvr_crrr-->snt t rvw srvy t cstmr-->cstmr prvds rvw-->dlvr_cstmr                                                                                       -2.356e+00\n",
       "processVariantprchs-->pprv-->dlvr_crrr-->snt t rvw srvy t cstmr-->cstmr prvds rvw-->dlvr_cstmr-->snt t rvw srvy t cstmr-->cstmr prvds rvw                                            -3.954e-02\n",
       "processVariantprchs-->pprv-->dlvr_crrr-->snt t rvw srvy t cstmr-->cstmr prvds rvw-->snt t rvw srvy t cstmr-->cstmr prvds rvw-->dlvr_cstmr                                            -3.006e+00\n",
       "processVariantprchs-->pprv-->dlvr_crrr-->snt t rvw srvy t cstmr-->cstmr prvds rvw-->snt t rvw srvy t cstmr-->dlvr_cstmr-->cstmr prvds rvw                                             6.817e-01\n",
       "processVariantprchs-->pprv-->dlvr_crrr-->snt t rvw srvy t cstmr-->dlvr_cstmr-->cstmr prvds rvw                                                                                       -2.665e-01\n",
       "processVariantprchs-->pprv-->dlvr_crrr-->snt t rvw srvy t cstmr-->dlvr_cstmr-->cstmr prvds rvw-->snt t rvw srvy t cstmr-->cstmr prvds rvw                                            -6.479e-01\n",
       "processVariantprchs-->pprv-->dlvr_crrr-->snt t rvw srvy t cstmr-->dlvr_cstmr-->snt t rvw srvy t cstmr-->cstmr prvds rvw-->cstmr prvds rvw                                            -6.819e-02\n",
       "processVariantprchs-->pprv-->dlvr_crrr-->snt t rvw srvy t cstmr-->snt t rvw srvy t cstmr-->cstmr prvds rvw-->cstmr prvds rvw-->dlvr_cstmr                                            -2.401e+00\n",
       "processVariantprchs-->pprv-->dlvr_crrr-->snt t rvw srvy t cstmr-->snt t rvw srvy t cstmr-->dlvr_cstmr-->cstmr prvds rvw-->cstmr prvds rvw                                            -2.178e-01\n",
       "processVariantprchs-->pprv-->dlvr_cstmr-->dlvr_crrr-->snt t rvw srvy t cstmr-->cstmr prvds rvw                                                                                       -1.214e+00\n",
       "processVariantprchs-->pprv-->dlvr_cstmr-->snt t rvw srvy t cstmr-->cstmr prvds rvw-->dlvr_crrr                                                                                        5.815e-01\n",
       "processVariantprchs-->pprv-->dlvr_cstmr-->snt t rvw srvy t cstmr-->dlvr_crrr-->cstmr prvds rvw                                                                                        8.055e-01\n",
       "processVariantprchs-->pprv-->snt t rvw srvy t cstmr-->cstmr prvds rvw-->dlvr_crrr-->dlvr_cstmr                                                                                       -2.354e+00\n",
       "processVariantprchs-->pprv-->snt t rvw srvy t cstmr-->cstmr prvds rvw-->dlvr_crrr-->dlvr_cstmr-->snt t rvw srvy t cstmr-->cstmr prvds rvw                                            -7.876e-01\n",
       "processVariantprchs-->pprv-->snt t rvw srvy t cstmr-->cstmr prvds rvw-->dlvr_crrr-->snt t rvw srvy t cstmr-->cstmr prvds rvw-->dlvr_cstmr                                             8.609e-01\n",
       "processVariantprchs-->pprv-->snt t rvw srvy t cstmr-->dlvr_crrr-->cstmr prvds rvw-->dlvr_cstmr                                                                                       -2.295e+00\n",
       "processVariantprchs-->pprv-->snt t rvw srvy t cstmr-->dlvr_crrr-->cstmr prvds rvw-->dlvr_cstmr-->snt t rvw srvy t cstmr-->cstmr prvds rvw                                             8.633e-01\n",
       "processVariantprchs-->pprv-->snt t rvw srvy t cstmr-->dlvr_crrr-->dlvr_cstmr-->cstmr prvds rvw                                                                                       -2.241e+00\n",
       "                                                                                                                                                                                     Std. Error\n",
       "(Intercept)                                                                                                                                                                           2.192e-01\n",
       "boleto                                                                                                                                                                                6.412e-02\n",
       "credit_card                                                                                                                                                                           6.183e-02\n",
       "debit_card                                                                                                                                                                            8.552e-02\n",
       "nmb_pay_types                                                                                                                                                                         5.091e-02\n",
       "not_defined                                                                                                                                                                                  NA\n",
       "total_installments                                                                                                                                                                    3.131e-03\n",
       "total_pay_value                                                                                                                                                                       4.375e-04\n",
       "voucher                                                                                                                                                                                      NA\n",
       "nmb_items                                                                                                                                                                             1.746e-02\n",
       "unique_items                                                                                                                                                                          4.486e-02\n",
       "nmb_sellers                                                                                                                                                                           8.489e-02\n",
       "sum_items_value                                                                                                                                                                       4.548e-04\n",
       "nmb_categories                                                                                                                                                                        1.068e-01\n",
       "avg_desc_length                                                                                                                                                                       1.165e-05\n",
       "avg_ph_quality                                                                                                                                                                        4.315e-03\n",
       "durPurchaseToDelivery                                                                                                                                                                 1.011e-03\n",
       "durPurchaseToApproval                                                                                                                                                                 1.077e-02\n",
       "durDeliveryToReview                                                                                                                                                                   6.770e-04\n",
       "timestampRanked                                                                                                                                                                              NA\n",
       "processVariantdlvr_crrr-->prchs-->pprv-->snt t rvw srvy t cstmr-->dlvr_cstmr-->cstmr prvds rvw                                                                                        8.250e-01\n",
       "processVariantprchs-->dlvr_crrr-->dlvr_cstmr-->pprv-->snt t rvw srvy t cstmr-->cstmr prvds rvw                                                                                        4.695e-01\n",
       "processVariantprchs-->dlvr_crrr-->dlvr_cstmr-->snt t rvw srvy t cstmr-->cstmr prvds rvw-->pprv                                                                                        1.159e+00\n",
       "processVariantprchs-->dlvr_crrr-->dlvr_cstmr-->snt t rvw srvy t cstmr-->pprv-->cstmr prvds rvw                                                                                        5.986e-01\n",
       "processVariantprchs-->dlvr_crrr-->pprv-->dlvr_cstmr-->snt t rvw srvy t cstmr-->cstmr prvds rvw                                                                                        1.977e-01\n",
       "processVariantprchs-->dlvr_crrr-->pprv-->dlvr_cstmr-->snt t rvw srvy t cstmr-->snt t rvw srvy t cstmr-->cstmr prvds rvw-->cstmr prvds rvw                                             1.152e+00\n",
       "processVariantprchs-->dlvr_crrr-->pprv-->snt t rvw srvy t cstmr-->cstmr prvds rvw-->dlvr_cstmr                                                                                        5.443e-01\n",
       "processVariantprchs-->dlvr_crrr-->pprv-->snt t rvw srvy t cstmr-->dlvr_cstmr-->cstmr prvds rvw                                                                                        4.222e-01\n",
       "processVariantprchs-->pprv-->dlvr_crrr-->dlvr_cstmr-->snt t rvw srvy t cstmr-->cstmr prvds rvw                                                                                        1.848e-01\n",
       "processVariantprchs-->pprv-->dlvr_crrr-->dlvr_cstmr-->snt t rvw srvy t cstmr-->cstmr prvds rvw-->snt t rvw srvy t cstmr-->cstmr prvds rvw                                             2.896e-01\n",
       "processVariantprchs-->pprv-->dlvr_crrr-->dlvr_cstmr-->snt t rvw srvy t cstmr-->snt t rvw srvy t cstmr-->cstmr prvds rvw-->cstmr prvds rvw                                             2.419e-01\n",
       "processVariantprchs-->pprv-->dlvr_crrr-->dlvr_cstmr-->snt t rvw srvy t cstmr-->snt t rvw srvy t cstmr-->cstmr prvds rvw-->cstmr prvds rvw-->snt t rvw srvy t cstmr-->cstmr prvds rvw  1.152e+00\n",
       "processVariantprchs-->pprv-->dlvr_crrr-->snt t rvw srvy t cstmr-->cstmr prvds rvw-->dlvr_cstmr                                                                                        1.903e-01\n",
       "processVariantprchs-->pprv-->dlvr_crrr-->snt t rvw srvy t cstmr-->cstmr prvds rvw-->dlvr_cstmr-->snt t rvw srvy t cstmr-->cstmr prvds rvw                                             3.007e-01\n",
       "processVariantprchs-->pprv-->dlvr_crrr-->snt t rvw srvy t cstmr-->cstmr prvds rvw-->snt t rvw srvy t cstmr-->cstmr prvds rvw-->dlvr_cstmr                                             1.153e+00\n",
       "processVariantprchs-->pprv-->dlvr_crrr-->snt t rvw srvy t cstmr-->cstmr prvds rvw-->snt t rvw srvy t cstmr-->dlvr_cstmr-->cstmr prvds rvw                                             1.152e+00\n",
       "processVariantprchs-->pprv-->dlvr_crrr-->snt t rvw srvy t cstmr-->dlvr_cstmr-->cstmr prvds rvw                                                                                        1.887e-01\n",
       "processVariantprchs-->pprv-->dlvr_crrr-->snt t rvw srvy t cstmr-->dlvr_cstmr-->cstmr prvds rvw-->snt t rvw srvy t cstmr-->cstmr prvds rvw                                             5.980e-01\n",
       "processVariantprchs-->pprv-->dlvr_crrr-->snt t rvw srvy t cstmr-->dlvr_cstmr-->snt t rvw srvy t cstmr-->cstmr prvds rvw-->cstmr prvds rvw                                             4.426e-01\n",
       "processVariantprchs-->pprv-->dlvr_crrr-->snt t rvw srvy t cstmr-->snt t rvw srvy t cstmr-->cstmr prvds rvw-->cstmr prvds rvw-->dlvr_cstmr                                             8.263e-01\n",
       "processVariantprchs-->pprv-->dlvr_crrr-->snt t rvw srvy t cstmr-->snt t rvw srvy t cstmr-->dlvr_cstmr-->cstmr prvds rvw-->cstmr prvds rvw                                             1.152e+00\n",
       "processVariantprchs-->pprv-->dlvr_cstmr-->dlvr_crrr-->snt t rvw srvy t cstmr-->cstmr prvds rvw                                                                                        1.156e+00\n",
       "processVariantprchs-->pprv-->dlvr_cstmr-->snt t rvw srvy t cstmr-->cstmr prvds rvw-->dlvr_crrr                                                                                        8.259e-01\n",
       "processVariantprchs-->pprv-->dlvr_cstmr-->snt t rvw srvy t cstmr-->dlvr_crrr-->cstmr prvds rvw                                                                                        6.014e-01\n",
       "processVariantprchs-->pprv-->snt t rvw srvy t cstmr-->cstmr prvds rvw-->dlvr_crrr-->dlvr_cstmr                                                                                        2.510e-01\n",
       "processVariantprchs-->pprv-->snt t rvw srvy t cstmr-->cstmr prvds rvw-->dlvr_crrr-->dlvr_cstmr-->snt t rvw srvy t cstmr-->cstmr prvds rvw                                             6.823e-01\n",
       "processVariantprchs-->pprv-->snt t rvw srvy t cstmr-->cstmr prvds rvw-->dlvr_crrr-->snt t rvw srvy t cstmr-->cstmr prvds rvw-->dlvr_cstmr                                             1.153e+00\n",
       "processVariantprchs-->pprv-->snt t rvw srvy t cstmr-->dlvr_crrr-->cstmr prvds rvw-->dlvr_cstmr                                                                                        3.771e-01\n",
       "processVariantprchs-->pprv-->snt t rvw srvy t cstmr-->dlvr_crrr-->cstmr prvds rvw-->dlvr_cstmr-->snt t rvw srvy t cstmr-->cstmr prvds rvw                                             8.254e-01\n",
       "processVariantprchs-->pprv-->snt t rvw srvy t cstmr-->dlvr_crrr-->dlvr_cstmr-->cstmr prvds rvw                                                                                        8.253e-01\n",
       "                                                                                                                                                                                     t value\n",
       "(Intercept)                                                                                                                                                                           27.609\n",
       "boleto                                                                                                                                                                                 0.707\n",
       "credit_card                                                                                                                                                                            0.146\n",
       "debit_card                                                                                                                                                                            -0.107\n",
       "nmb_pay_types                                                                                                                                                                          0.112\n",
       "not_defined                                                                                                                                                                               NA\n",
       "total_installments                                                                                                                                                                     0.396\n",
       "total_pay_value                                                                                                                                                                        0.045\n",
       "voucher                                                                                                                                                                                   NA\n",
       "nmb_items                                                                                                                                                                            -14.256\n",
       "unique_items                                                                                                                                                                           0.307\n",
       "nmb_sellers                                                                                                                                                                          -11.318\n",
       "sum_items_value                                                                                                                                                                       -0.096\n",
       "nmb_categories                                                                                                                                                                        -1.955\n",
       "avg_desc_length                                                                                                                                                                        2.371\n",
       "avg_ph_quality                                                                                                                                                                        -0.435\n",
       "durPurchaseToDelivery                                                                                                                                                                -16.147\n",
       "durPurchaseToApproval                                                                                                                                                                 -0.756\n",
       "durDeliveryToReview                                                                                                                                                                   -4.349\n",
       "timestampRanked                                                                                                                                                                           NA\n",
       "processVariantdlvr_crrr-->prchs-->pprv-->snt t rvw srvy t cstmr-->dlvr_cstmr-->cstmr prvds rvw                                                                                        -0.067\n",
       "processVariantprchs-->dlvr_crrr-->dlvr_cstmr-->pprv-->snt t rvw srvy t cstmr-->cstmr prvds rvw                                                                                        -0.330\n",
       "processVariantprchs-->dlvr_crrr-->dlvr_cstmr-->snt t rvw srvy t cstmr-->cstmr prvds rvw-->pprv                                                                                        -1.214\n",
       "processVariantprchs-->dlvr_crrr-->dlvr_cstmr-->snt t rvw srvy t cstmr-->pprv-->cstmr prvds rvw                                                                                        -1.034\n",
       "processVariantprchs-->dlvr_crrr-->pprv-->dlvr_cstmr-->snt t rvw srvy t cstmr-->cstmr prvds rvw                                                                                        -0.472\n",
       "processVariantprchs-->dlvr_crrr-->pprv-->dlvr_cstmr-->snt t rvw srvy t cstmr-->snt t rvw srvy t cstmr-->cstmr prvds rvw-->cstmr prvds rvw                                             -0.520\n",
       "processVariantprchs-->dlvr_crrr-->pprv-->snt t rvw srvy t cstmr-->cstmr prvds rvw-->dlvr_cstmr                                                                                        -3.764\n",
       "processVariantprchs-->dlvr_crrr-->pprv-->snt t rvw srvy t cstmr-->dlvr_cstmr-->cstmr prvds rvw                                                                                         0.223\n",
       "processVariantprchs-->pprv-->dlvr_crrr-->dlvr_cstmr-->snt t rvw srvy t cstmr-->cstmr prvds rvw                                                                                        -0.830\n",
       "processVariantprchs-->pprv-->dlvr_crrr-->dlvr_cstmr-->snt t rvw srvy t cstmr-->cstmr prvds rvw-->snt t rvw srvy t cstmr-->cstmr prvds rvw                                             -1.299\n",
       "processVariantprchs-->pprv-->dlvr_crrr-->dlvr_cstmr-->snt t rvw srvy t cstmr-->snt t rvw srvy t cstmr-->cstmr prvds rvw-->cstmr prvds rvw                                              0.828\n",
       "processVariantprchs-->pprv-->dlvr_crrr-->dlvr_cstmr-->snt t rvw srvy t cstmr-->snt t rvw srvy t cstmr-->cstmr prvds rvw-->cstmr prvds rvw-->snt t rvw srvy t cstmr-->cstmr prvds rvw  -3.074\n",
       "processVariantprchs-->pprv-->dlvr_crrr-->snt t rvw srvy t cstmr-->cstmr prvds rvw-->dlvr_cstmr                                                                                       -12.382\n",
       "processVariantprchs-->pprv-->dlvr_crrr-->snt t rvw srvy t cstmr-->cstmr prvds rvw-->dlvr_cstmr-->snt t rvw srvy t cstmr-->cstmr prvds rvw                                             -0.131\n",
       "processVariantprchs-->pprv-->dlvr_crrr-->snt t rvw srvy t cstmr-->cstmr prvds rvw-->snt t rvw srvy t cstmr-->cstmr prvds rvw-->dlvr_cstmr                                             -2.608\n",
       "processVariantprchs-->pprv-->dlvr_crrr-->snt t rvw srvy t cstmr-->cstmr prvds rvw-->snt t rvw srvy t cstmr-->dlvr_cstmr-->cstmr prvds rvw                                              0.592\n",
       "processVariantprchs-->pprv-->dlvr_crrr-->snt t rvw srvy t cstmr-->dlvr_cstmr-->cstmr prvds rvw                                                                                        -1.412\n",
       "processVariantprchs-->pprv-->dlvr_crrr-->snt t rvw srvy t cstmr-->dlvr_cstmr-->cstmr prvds rvw-->snt t rvw srvy t cstmr-->cstmr prvds rvw                                             -1.084\n",
       "processVariantprchs-->pprv-->dlvr_crrr-->snt t rvw srvy t cstmr-->dlvr_cstmr-->snt t rvw srvy t cstmr-->cstmr prvds rvw-->cstmr prvds rvw                                             -0.154\n",
       "processVariantprchs-->pprv-->dlvr_crrr-->snt t rvw srvy t cstmr-->snt t rvw srvy t cstmr-->cstmr prvds rvw-->cstmr prvds rvw-->dlvr_cstmr                                             -2.905\n",
       "processVariantprchs-->pprv-->dlvr_crrr-->snt t rvw srvy t cstmr-->snt t rvw srvy t cstmr-->dlvr_cstmr-->cstmr prvds rvw-->cstmr prvds rvw                                             -0.189\n",
       "processVariantprchs-->pprv-->dlvr_cstmr-->dlvr_crrr-->snt t rvw srvy t cstmr-->cstmr prvds rvw                                                                                        -1.050\n",
       "processVariantprchs-->pprv-->dlvr_cstmr-->snt t rvw srvy t cstmr-->cstmr prvds rvw-->dlvr_crrr                                                                                         0.704\n",
       "processVariantprchs-->pprv-->dlvr_cstmr-->snt t rvw srvy t cstmr-->dlvr_crrr-->cstmr prvds rvw                                                                                         1.339\n",
       "processVariantprchs-->pprv-->snt t rvw srvy t cstmr-->cstmr prvds rvw-->dlvr_crrr-->dlvr_cstmr                                                                                        -9.376\n",
       "processVariantprchs-->pprv-->snt t rvw srvy t cstmr-->cstmr prvds rvw-->dlvr_crrr-->dlvr_cstmr-->snt t rvw srvy t cstmr-->cstmr prvds rvw                                             -1.154\n",
       "processVariantprchs-->pprv-->snt t rvw srvy t cstmr-->cstmr prvds rvw-->dlvr_crrr-->snt t rvw srvy t cstmr-->cstmr prvds rvw-->dlvr_cstmr                                              0.747\n",
       "processVariantprchs-->pprv-->snt t rvw srvy t cstmr-->dlvr_crrr-->cstmr prvds rvw-->dlvr_cstmr                                                                                        -6.087\n",
       "processVariantprchs-->pprv-->snt t rvw srvy t cstmr-->dlvr_crrr-->cstmr prvds rvw-->dlvr_cstmr-->snt t rvw srvy t cstmr-->cstmr prvds rvw                                              1.046\n",
       "processVariantprchs-->pprv-->snt t rvw srvy t cstmr-->dlvr_crrr-->dlvr_cstmr-->cstmr prvds rvw                                                                                        -2.715\n",
       "                                                                                                                                                                                     Pr(>|t|)\n",
       "(Intercept)                                                                                                                                                                           < 2e-16\n",
       "boleto                                                                                                                                                                               0.479548\n",
       "credit_card                                                                                                                                                                          0.883731\n",
       "debit_card                                                                                                                                                                           0.915096\n",
       "nmb_pay_types                                                                                                                                                                        0.910563\n",
       "not_defined                                                                                                                                                                                NA\n",
       "total_installments                                                                                                                                                                   0.691851\n",
       "total_pay_value                                                                                                                                                                      0.964136\n",
       "voucher                                                                                                                                                                                    NA\n",
       "nmb_items                                                                                                                                                                             < 2e-16\n",
       "unique_items                                                                                                                                                                         0.759001\n",
       "nmb_sellers                                                                                                                                                                           < 2e-16\n",
       "sum_items_value                                                                                                                                                                      0.923890\n",
       "nmb_categories                                                                                                                                                                       0.050634\n",
       "avg_desc_length                                                                                                                                                                      0.017754\n",
       "avg_ph_quality                                                                                                                                                                       0.663530\n",
       "durPurchaseToDelivery                                                                                                                                                                 < 2e-16\n",
       "durPurchaseToApproval                                                                                                                                                                0.449745\n",
       "durDeliveryToReview                                                                                                                                                                  1.37e-05\n",
       "timestampRanked                                                                                                                                                                            NA\n",
       "processVariantdlvr_crrr-->prchs-->pprv-->snt t rvw srvy t cstmr-->dlvr_cstmr-->cstmr prvds rvw                                                                                       0.946397\n",
       "processVariantprchs-->dlvr_crrr-->dlvr_cstmr-->pprv-->snt t rvw srvy t cstmr-->cstmr prvds rvw                                                                                       0.741037\n",
       "processVariantprchs-->dlvr_crrr-->dlvr_cstmr-->snt t rvw srvy t cstmr-->cstmr prvds rvw-->pprv                                                                                       0.224774\n",
       "processVariantprchs-->dlvr_crrr-->dlvr_cstmr-->snt t rvw srvy t cstmr-->pprv-->cstmr prvds rvw                                                                                       0.301356\n",
       "processVariantprchs-->dlvr_crrr-->pprv-->dlvr_cstmr-->snt t rvw srvy t cstmr-->cstmr prvds rvw                                                                                       0.636751\n",
       "processVariantprchs-->dlvr_crrr-->pprv-->dlvr_cstmr-->snt t rvw srvy t cstmr-->snt t rvw srvy t cstmr-->cstmr prvds rvw-->cstmr prvds rvw                                            0.602909\n",
       "processVariantprchs-->dlvr_crrr-->pprv-->snt t rvw srvy t cstmr-->cstmr prvds rvw-->dlvr_cstmr                                                                                       0.000167\n",
       "processVariantprchs-->dlvr_crrr-->pprv-->snt t rvw srvy t cstmr-->dlvr_cstmr-->cstmr prvds rvw                                                                                       0.823190\n",
       "processVariantprchs-->pprv-->dlvr_crrr-->dlvr_cstmr-->snt t rvw srvy t cstmr-->cstmr prvds rvw                                                                                       0.406707\n",
       "processVariantprchs-->pprv-->dlvr_crrr-->dlvr_cstmr-->snt t rvw srvy t cstmr-->cstmr prvds rvw-->snt t rvw srvy t cstmr-->cstmr prvds rvw                                            0.194074\n",
       "processVariantprchs-->pprv-->dlvr_crrr-->dlvr_cstmr-->snt t rvw srvy t cstmr-->snt t rvw srvy t cstmr-->cstmr prvds rvw-->cstmr prvds rvw                                            0.407844\n",
       "processVariantprchs-->pprv-->dlvr_crrr-->dlvr_cstmr-->snt t rvw srvy t cstmr-->snt t rvw srvy t cstmr-->cstmr prvds rvw-->cstmr prvds rvw-->snt t rvw srvy t cstmr-->cstmr prvds rvw 0.002116\n",
       "processVariantprchs-->pprv-->dlvr_crrr-->snt t rvw srvy t cstmr-->cstmr prvds rvw-->dlvr_cstmr                                                                                        < 2e-16\n",
       "processVariantprchs-->pprv-->dlvr_crrr-->snt t rvw srvy t cstmr-->cstmr prvds rvw-->dlvr_cstmr-->snt t rvw srvy t cstmr-->cstmr prvds rvw                                            0.895401\n",
       "processVariantprchs-->pprv-->dlvr_crrr-->snt t rvw srvy t cstmr-->cstmr prvds rvw-->snt t rvw srvy t cstmr-->cstmr prvds rvw-->dlvr_cstmr                                            0.009108\n",
       "processVariantprchs-->pprv-->dlvr_crrr-->snt t rvw srvy t cstmr-->cstmr prvds rvw-->snt t rvw srvy t cstmr-->dlvr_cstmr-->cstmr prvds rvw                                            0.554161\n",
       "processVariantprchs-->pprv-->dlvr_crrr-->snt t rvw srvy t cstmr-->dlvr_cstmr-->cstmr prvds rvw                                                                                       0.157928\n",
       "processVariantprchs-->pprv-->dlvr_crrr-->snt t rvw srvy t cstmr-->dlvr_cstmr-->cstmr prvds rvw-->snt t rvw srvy t cstmr-->cstmr prvds rvw                                            0.278590\n",
       "processVariantprchs-->pprv-->dlvr_crrr-->snt t rvw srvy t cstmr-->dlvr_cstmr-->snt t rvw srvy t cstmr-->cstmr prvds rvw-->cstmr prvds rvw                                            0.877547\n",
       "processVariantprchs-->pprv-->dlvr_crrr-->snt t rvw srvy t cstmr-->snt t rvw srvy t cstmr-->cstmr prvds rvw-->cstmr prvds rvw-->dlvr_cstmr                                            0.003673\n",
       "processVariantprchs-->pprv-->dlvr_crrr-->snt t rvw srvy t cstmr-->snt t rvw srvy t cstmr-->dlvr_cstmr-->cstmr prvds rvw-->cstmr prvds rvw                                            0.850101\n",
       "processVariantprchs-->pprv-->dlvr_cstmr-->dlvr_crrr-->snt t rvw srvy t cstmr-->cstmr prvds rvw                                                                                       0.293565\n",
       "processVariantprchs-->pprv-->dlvr_cstmr-->snt t rvw srvy t cstmr-->cstmr prvds rvw-->dlvr_crrr                                                                                       0.481391\n",
       "processVariantprchs-->pprv-->dlvr_cstmr-->snt t rvw srvy t cstmr-->dlvr_crrr-->cstmr prvds rvw                                                                                       0.180487\n",
       "processVariantprchs-->pprv-->snt t rvw srvy t cstmr-->cstmr prvds rvw-->dlvr_crrr-->dlvr_cstmr                                                                                        < 2e-16\n",
       "processVariantprchs-->pprv-->snt t rvw srvy t cstmr-->cstmr prvds rvw-->dlvr_crrr-->dlvr_cstmr-->snt t rvw srvy t cstmr-->cstmr prvds rvw                                            0.248369\n",
       "processVariantprchs-->pprv-->snt t rvw srvy t cstmr-->cstmr prvds rvw-->dlvr_crrr-->snt t rvw srvy t cstmr-->cstmr prvds rvw-->dlvr_cstmr                                            0.455100\n",
       "processVariantprchs-->pprv-->snt t rvw srvy t cstmr-->dlvr_crrr-->cstmr prvds rvw-->dlvr_cstmr                                                                                       1.17e-09\n",
       "processVariantprchs-->pprv-->snt t rvw srvy t cstmr-->dlvr_crrr-->cstmr prvds rvw-->dlvr_cstmr-->snt t rvw srvy t cstmr-->cstmr prvds rvw                                            0.295617\n",
       "processVariantprchs-->pprv-->snt t rvw srvy t cstmr-->dlvr_crrr-->dlvr_cstmr-->cstmr prvds rvw                                                                                       0.006629\n",
       "                                                                                                                                                                                        \n",
       "(Intercept)                                                                                                                                                                          ***\n",
       "boleto                                                                                                                                                                                  \n",
       "credit_card                                                                                                                                                                             \n",
       "debit_card                                                                                                                                                                              \n",
       "nmb_pay_types                                                                                                                                                                           \n",
       "not_defined                                                                                                                                                                             \n",
       "total_installments                                                                                                                                                                      \n",
       "total_pay_value                                                                                                                                                                         \n",
       "voucher                                                                                                                                                                                 \n",
       "nmb_items                                                                                                                                                                            ***\n",
       "unique_items                                                                                                                                                                            \n",
       "nmb_sellers                                                                                                                                                                          ***\n",
       "sum_items_value                                                                                                                                                                         \n",
       "nmb_categories                                                                                                                                                                       .  \n",
       "avg_desc_length                                                                                                                                                                      *  \n",
       "avg_ph_quality                                                                                                                                                                          \n",
       "durPurchaseToDelivery                                                                                                                                                                ***\n",
       "durPurchaseToApproval                                                                                                                                                                   \n",
       "durDeliveryToReview                                                                                                                                                                  ***\n",
       "timestampRanked                                                                                                                                                                         \n",
       "processVariantdlvr_crrr-->prchs-->pprv-->snt t rvw srvy t cstmr-->dlvr_cstmr-->cstmr prvds rvw                                                                                          \n",
       "processVariantprchs-->dlvr_crrr-->dlvr_cstmr-->pprv-->snt t rvw srvy t cstmr-->cstmr prvds rvw                                                                                          \n",
       "processVariantprchs-->dlvr_crrr-->dlvr_cstmr-->snt t rvw srvy t cstmr-->cstmr prvds rvw-->pprv                                                                                          \n",
       "processVariantprchs-->dlvr_crrr-->dlvr_cstmr-->snt t rvw srvy t cstmr-->pprv-->cstmr prvds rvw                                                                                          \n",
       "processVariantprchs-->dlvr_crrr-->pprv-->dlvr_cstmr-->snt t rvw srvy t cstmr-->cstmr prvds rvw                                                                                          \n",
       "processVariantprchs-->dlvr_crrr-->pprv-->dlvr_cstmr-->snt t rvw srvy t cstmr-->snt t rvw srvy t cstmr-->cstmr prvds rvw-->cstmr prvds rvw                                               \n",
       "processVariantprchs-->dlvr_crrr-->pprv-->snt t rvw srvy t cstmr-->cstmr prvds rvw-->dlvr_cstmr                                                                                       ***\n",
       "processVariantprchs-->dlvr_crrr-->pprv-->snt t rvw srvy t cstmr-->dlvr_cstmr-->cstmr prvds rvw                                                                                          \n",
       "processVariantprchs-->pprv-->dlvr_crrr-->dlvr_cstmr-->snt t rvw srvy t cstmr-->cstmr prvds rvw                                                                                          \n",
       "processVariantprchs-->pprv-->dlvr_crrr-->dlvr_cstmr-->snt t rvw srvy t cstmr-->cstmr prvds rvw-->snt t rvw srvy t cstmr-->cstmr prvds rvw                                               \n",
       "processVariantprchs-->pprv-->dlvr_crrr-->dlvr_cstmr-->snt t rvw srvy t cstmr-->snt t rvw srvy t cstmr-->cstmr prvds rvw-->cstmr prvds rvw                                               \n",
       "processVariantprchs-->pprv-->dlvr_crrr-->dlvr_cstmr-->snt t rvw srvy t cstmr-->snt t rvw srvy t cstmr-->cstmr prvds rvw-->cstmr prvds rvw-->snt t rvw srvy t cstmr-->cstmr prvds rvw ** \n",
       "processVariantprchs-->pprv-->dlvr_crrr-->snt t rvw srvy t cstmr-->cstmr prvds rvw-->dlvr_cstmr                                                                                       ***\n",
       "processVariantprchs-->pprv-->dlvr_crrr-->snt t rvw srvy t cstmr-->cstmr prvds rvw-->dlvr_cstmr-->snt t rvw srvy t cstmr-->cstmr prvds rvw                                               \n",
       "processVariantprchs-->pprv-->dlvr_crrr-->snt t rvw srvy t cstmr-->cstmr prvds rvw-->snt t rvw srvy t cstmr-->cstmr prvds rvw-->dlvr_cstmr                                            ** \n",
       "processVariantprchs-->pprv-->dlvr_crrr-->snt t rvw srvy t cstmr-->cstmr prvds rvw-->snt t rvw srvy t cstmr-->dlvr_cstmr-->cstmr prvds rvw                                               \n",
       "processVariantprchs-->pprv-->dlvr_crrr-->snt t rvw srvy t cstmr-->dlvr_cstmr-->cstmr prvds rvw                                                                                          \n",
       "processVariantprchs-->pprv-->dlvr_crrr-->snt t rvw srvy t cstmr-->dlvr_cstmr-->cstmr prvds rvw-->snt t rvw srvy t cstmr-->cstmr prvds rvw                                               \n",
       "processVariantprchs-->pprv-->dlvr_crrr-->snt t rvw srvy t cstmr-->dlvr_cstmr-->snt t rvw srvy t cstmr-->cstmr prvds rvw-->cstmr prvds rvw                                               \n",
       "processVariantprchs-->pprv-->dlvr_crrr-->snt t rvw srvy t cstmr-->snt t rvw srvy t cstmr-->cstmr prvds rvw-->cstmr prvds rvw-->dlvr_cstmr                                            ** \n",
       "processVariantprchs-->pprv-->dlvr_crrr-->snt t rvw srvy t cstmr-->snt t rvw srvy t cstmr-->dlvr_cstmr-->cstmr prvds rvw-->cstmr prvds rvw                                               \n",
       "processVariantprchs-->pprv-->dlvr_cstmr-->dlvr_crrr-->snt t rvw srvy t cstmr-->cstmr prvds rvw                                                                                          \n",
       "processVariantprchs-->pprv-->dlvr_cstmr-->snt t rvw srvy t cstmr-->cstmr prvds rvw-->dlvr_crrr                                                                                          \n",
       "processVariantprchs-->pprv-->dlvr_cstmr-->snt t rvw srvy t cstmr-->dlvr_crrr-->cstmr prvds rvw                                                                                          \n",
       "processVariantprchs-->pprv-->snt t rvw srvy t cstmr-->cstmr prvds rvw-->dlvr_crrr-->dlvr_cstmr                                                                                       ***\n",
       "processVariantprchs-->pprv-->snt t rvw srvy t cstmr-->cstmr prvds rvw-->dlvr_crrr-->dlvr_cstmr-->snt t rvw srvy t cstmr-->cstmr prvds rvw                                               \n",
       "processVariantprchs-->pprv-->snt t rvw srvy t cstmr-->cstmr prvds rvw-->dlvr_crrr-->snt t rvw srvy t cstmr-->cstmr prvds rvw-->dlvr_cstmr                                               \n",
       "processVariantprchs-->pprv-->snt t rvw srvy t cstmr-->dlvr_crrr-->cstmr prvds rvw-->dlvr_cstmr                                                                                       ***\n",
       "processVariantprchs-->pprv-->snt t rvw srvy t cstmr-->dlvr_crrr-->cstmr prvds rvw-->dlvr_cstmr-->snt t rvw srvy t cstmr-->cstmr prvds rvw                                               \n",
       "processVariantprchs-->pprv-->snt t rvw srvy t cstmr-->dlvr_crrr-->dlvr_cstmr-->cstmr prvds rvw                                                                                       ** \n",
       "---\n",
       "Signif. codes:  0 '***' 0.001 '**' 0.01 '*' 0.05 '.' 0.1 ' ' 1\n",
       "\n",
       "Residual standard error: 1.137 on 23708 degrees of freedom\n",
       "  (365 observations deleted due to missingness)\n",
       "Multiple R-squared:  0.2186,\tAdjusted R-squared:  0.2171 \n",
       "F-statistic: 144.2 on 46 and 23708 DF,  p-value: < 2.2e-16\n"
      ]
     },
     "metadata": {},
     "output_type": "display_data"
    }
   ],
   "source": [
    "summary(simpleLinearModel)"
   ]
  },
  {
   "cell_type": "code",
   "execution_count": null,
   "metadata": {},
   "outputs": [],
   "source": []
  }
 ],
 "metadata": {
  "kernelspec": {
   "display_name": "R",
   "language": "R",
   "name": "ir"
  },
  "language_info": {
   "codemirror_mode": "r",
   "file_extension": ".r",
   "mimetype": "text/x-r-source",
   "name": "R",
   "pygments_lexer": "r",
   "version": "3.6.1"
  }
 },
 "nbformat": 4,
 "nbformat_minor": 4
}
