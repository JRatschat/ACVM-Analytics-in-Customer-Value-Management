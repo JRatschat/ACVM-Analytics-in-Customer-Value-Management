{
 "cells": [
  {
   "cell_type": "code",
   "execution_count": 130,
   "metadata": {},
   "outputs": [],
   "source": [
    "options(warn=-1)\n",
    "\n",
    "library(data.table)\n",
    "library(data.table)\n",
    "library(tidyverse)\n",
    "library(bupaR)\n",
    "library(edeaR)\n",
    "library(processmapR)\n",
    "\n",
    "# data\n",
    "load('olist_eventlog.RData')\n",
    "eventlog <- as.data.table(event_log)\n",
    "eventlog[, activity := as.character(activity)]\n",
    "\n",
    "# data for regression\n",
    "dataRegression <- copy(eventlog)"
   ]
  },
  {
   "cell_type": "markdown",
   "metadata": {},
   "source": [
    "## 4 Satisfaction Analysis\n",
    "\n",
    "Idea: Create \"duration\"-variables, ie the time passed between two activities. But only for activities that can be observed by the customer.\n",
    "\n",
    "* time passed between **purchase** and **approval** (does the customer care about approval? Or only delivery?)\n",
    "* time passed between **approval** and **delivery** (does the customer care about approval? Or only delivery?)\n",
    "* time passed between **purchase** and **delivery** \n",
    "* time passed between **product delivered** and **review provided** (Do mad customers provide quicker reviews?)"
   ]
  },
  {
   "cell_type": "code",
   "execution_count": 68,
   "metadata": {},
   "outputs": [],
   "source": [
    "# A function that takes in an eventlog-dataset and creates a column with the \n",
    "# duration (in days) between the two specified activities.\n",
    "CreateDurationVariable <- function(dat, fromActivity, toActivity, colname){\n",
    "  data <- copy(dat)\n",
    "  \n",
    "  data[, fromActivityTimestamp := min(timestamp), by = .(order_id)]\n",
    "  data[activity == fromActivity, fromActivityTimestamp := timestamp, by = .(order_id)]\n",
    "  data[, fromActivityTimestamp := max(fromActivityTimestamp), by = .(order_id)]\n",
    "\n",
    "  data[, toActivityTimestamp := min(timestamp), by = .(order_id)]\n",
    "  data[activity == toActivity, toActivityTimestamp := timestamp, by = .(order_id)]\n",
    "  data[, toActivityTimestamp := max(toActivityTimestamp), by = .(order_id)]\n",
    "  \n",
    "  data[, newDurationVariable := rep(0, length.out = nrow(data))]\n",
    "  data[, newDurationVariable := as.numeric(\n",
    "    difftime(toActivityTimestamp, fromActivityTimestamp, units = \"days\"))]\n",
    "  \n",
    "  data[, ':='(fromActivityTimestamp = NULL,\n",
    "              toActivityTimestamp = NULL)]\n",
    "  \n",
    "  setnames(data, old=\"newDurationVariable\", new=colname)\n",
    "  return(data)\n",
    "}"
   ]
  },
  {
   "cell_type": "markdown",
   "metadata": {},
   "source": [
    "#### Create duration variables"
   ]
  },
  {
   "cell_type": "code",
   "execution_count": 69,
   "metadata": {},
   "outputs": [],
   "source": [
    "# Create variable for the duration between purchase and delivery (to customer)\n",
    "dataRegression <- CreateDurationVariable(\n",
    "  dat = dataRegression,\n",
    "  fromActivity = \"purchase\",\n",
    "  toActivity = \"deliever_customer\",\n",
    "  colname = \"durPurchaseToDelivery\"\n",
    ")\n",
    "\n",
    "# Create variable for the duration between purchase and approval\n",
    "dataRegression <- CreateDurationVariable(\n",
    "  dat = dataRegression,\n",
    "  fromActivity = \"purchase\",\n",
    "  toActivity = \"approve\",\n",
    "  colname = \"durPurchaseToApproval\"\n",
    ")\n",
    "\n",
    "# Create variable for the duration between approval and delivery\n",
    "dataRegression <- CreateDurationVariable(\n",
    "  dat = dataRegression,\n",
    "  fromActivity = \"approve\",\n",
    "  toActivity = \"deliever_customer\",\n",
    "  colname = \"durApprovalToDelivery\"\n",
    ")\n",
    "\n",
    "# Create variable for the duration between approval and delivery\n",
    "dataRegression <- CreateDurationVariable(\n",
    "  dat = dataRegression,\n",
    "  fromActivity = \"deliever_customer\",\n",
    "  toActivity = \"customer provides review\",\n",
    "  colname = \"durDeliveryToReview\"\n",
    ")"
   ]
  },
  {
   "cell_type": "markdown",
   "metadata": {},
   "source": [
    "#### Remove variables that are irrelevant for regression (e.g. ID-Variables)"
   ]
  },
  {
   "cell_type": "code",
   "execution_count": 157,
   "metadata": {},
   "outputs": [],
   "source": [
    "# Remove variables that are non-relevant for regression \n",
    "dataRegression <- dataRegression %>% \n",
    "  select(-starts_with(\"max\"),\n",
    "         -ends_with(\"date\"),\n",
    "         -c(\"activity_instance\",\n",
    "            \"status\",\n",
    "            \"timestamp\",\n",
    "            \".order\",\n",
    "            \"activity\",\n",
    "            \"customer_state\")) %>% \n",
    "  setDT()\n",
    "\n",
    "# Retain a single row for each case (Before, for each order there were several rows)\n",
    "dataRegression <- dataRegression[!duplicated(dataRegression$order_id)]\n",
    "\n",
    "# Further remove non-relevant variables\n",
    "dataRegression <- dataRegression %>% select(-ends_with(\"id\"))"
   ]
  },
  {
   "cell_type": "code",
   "execution_count": 158,
   "metadata": {},
   "outputs": [
    {
     "data": {
      "text/html": [
       "<ol class=list-inline>\n",
       "\t<li>'review_score'</li>\n",
       "\t<li>'boleto'</li>\n",
       "\t<li>'credit_card'</li>\n",
       "\t<li>'debit_card'</li>\n",
       "\t<li>'nmb_pay_types'</li>\n",
       "\t<li>'not_defined'</li>\n",
       "\t<li>'total_installments'</li>\n",
       "\t<li>'total_pay_value'</li>\n",
       "\t<li>'voucher'</li>\n",
       "\t<li>'nmb_items'</li>\n",
       "\t<li>'unique_items'</li>\n",
       "\t<li>'nmb_sellers'</li>\n",
       "\t<li>'sum_items_value'</li>\n",
       "\t<li>'nmb_categories'</li>\n",
       "\t<li>'avg_desc_length'</li>\n",
       "\t<li>'avg_ph_quality'</li>\n",
       "</ol>\n"
      ],
      "text/latex": [
       "\\begin{enumerate*}\n",
       "\\item 'review\\_score'\n",
       "\\item 'boleto'\n",
       "\\item 'credit\\_card'\n",
       "\\item 'debit\\_card'\n",
       "\\item 'nmb\\_pay\\_types'\n",
       "\\item 'not\\_defined'\n",
       "\\item 'total\\_installments'\n",
       "\\item 'total\\_pay\\_value'\n",
       "\\item 'voucher'\n",
       "\\item 'nmb\\_items'\n",
       "\\item 'unique\\_items'\n",
       "\\item 'nmb\\_sellers'\n",
       "\\item 'sum\\_items\\_value'\n",
       "\\item 'nmb\\_categories'\n",
       "\\item 'avg\\_desc\\_length'\n",
       "\\item 'avg\\_ph\\_quality'\n",
       "\\end{enumerate*}\n"
      ],
      "text/markdown": [
       "1. 'review_score'\n",
       "2. 'boleto'\n",
       "3. 'credit_card'\n",
       "4. 'debit_card'\n",
       "5. 'nmb_pay_types'\n",
       "6. 'not_defined'\n",
       "7. 'total_installments'\n",
       "8. 'total_pay_value'\n",
       "9. 'voucher'\n",
       "10. 'nmb_items'\n",
       "11. 'unique_items'\n",
       "12. 'nmb_sellers'\n",
       "13. 'sum_items_value'\n",
       "14. 'nmb_categories'\n",
       "15. 'avg_desc_length'\n",
       "16. 'avg_ph_quality'\n",
       "\n",
       "\n"
      ],
      "text/plain": [
       " [1] \"review_score\"       \"boleto\"             \"credit_card\"       \n",
       " [4] \"debit_card\"         \"nmb_pay_types\"      \"not_defined\"       \n",
       " [7] \"total_installments\" \"total_pay_value\"    \"voucher\"           \n",
       "[10] \"nmb_items\"          \"unique_items\"       \"nmb_sellers\"       \n",
       "[13] \"sum_items_value\"    \"nmb_categories\"     \"avg_desc_length\"   \n",
       "[16] \"avg_ph_quality\"    "
      ]
     },
     "metadata": {},
     "output_type": "display_data"
    }
   ],
   "source": [
    "colnames(dataRegression)"
   ]
  },
  {
   "cell_type": "markdown",
   "metadata": {},
   "source": [
    "#### Check for correlations between the duration-variables"
   ]
  },
  {
   "cell_type": "code",
   "execution_count": 72,
   "metadata": {},
   "outputs": [
    {
     "data": {
      "text/html": [
       "<table>\n",
       "<caption>A data.table: 3 × 4</caption>\n",
       "<thead>\n",
       "\t<tr><th scope=col>durPurchaseToDelivery</th><th scope=col>durPurchaseToApproval</th><th scope=col>durApprovalToDelivery</th><th scope=col>durDeliveryToReview</th></tr>\n",
       "\t<tr><th scope=col>&lt;dbl&gt;</th><th scope=col>&lt;dbl&gt;</th><th scope=col>&lt;dbl&gt;</th><th scope=col>&lt;dbl&gt;</th></tr>\n",
       "</thead>\n",
       "<tbody>\n",
       "\t<tr><td> 6.842280</td><td>0.01626157</td><td> 6.826019</td><td>3.754086</td></tr>\n",
       "\t<tr><td> 3.793993</td><td>0.01346065</td><td> 3.780532</td><td>1.153044</td></tr>\n",
       "\t<tr><td>17.939583</td><td>0.01017361</td><td>17.929410</td><td>1.685995</td></tr>\n",
       "</tbody>\n",
       "</table>\n"
      ],
      "text/latex": [
       "A data.table: 3 × 4\n",
       "\\begin{tabular}{r|llll}\n",
       " durPurchaseToDelivery & durPurchaseToApproval & durApprovalToDelivery & durDeliveryToReview\\\\\n",
       " <dbl> & <dbl> & <dbl> & <dbl>\\\\\n",
       "\\hline\n",
       "\t  6.842280 & 0.01626157 &  6.826019 & 3.754086\\\\\n",
       "\t  3.793993 & 0.01346065 &  3.780532 & 1.153044\\\\\n",
       "\t 17.939583 & 0.01017361 & 17.929410 & 1.685995\\\\\n",
       "\\end{tabular}\n"
      ],
      "text/markdown": [
       "\n",
       "A data.table: 3 × 4\n",
       "\n",
       "| durPurchaseToDelivery &lt;dbl&gt; | durPurchaseToApproval &lt;dbl&gt; | durApprovalToDelivery &lt;dbl&gt; | durDeliveryToReview &lt;dbl&gt; |\n",
       "|---|---|---|---|\n",
       "|  6.842280 | 0.01626157 |  6.826019 | 3.754086 |\n",
       "|  3.793993 | 0.01346065 |  3.780532 | 1.153044 |\n",
       "| 17.939583 | 0.01017361 | 17.929410 | 1.685995 |\n",
       "\n"
      ],
      "text/plain": [
       "  durPurchaseToDelivery durPurchaseToApproval durApprovalToDelivery\n",
       "1  6.842280             0.01626157             6.826019            \n",
       "2  3.793993             0.01346065             3.780532            \n",
       "3 17.939583             0.01017361            17.929410            \n",
       "  durDeliveryToReview\n",
       "1 3.754086           \n",
       "2 1.153044           \n",
       "3 1.685995           "
      ]
     },
     "metadata": {},
     "output_type": "display_data"
    }
   ],
   "source": [
    "durationVars <- dataRegression %>% select(starts_with(\"dur\"))\n",
    "\n",
    "head(durationVars, 3)"
   ]
  },
  {
   "cell_type": "code",
   "execution_count": 73,
   "metadata": {},
   "outputs": [
    {
     "data": {
      "text/html": [
       "<table>\n",
       "<caption>A data.table: 4 × 2</caption>\n",
       "<thead>\n",
       "\t<tr><th scope=col>col</th><th scope=col>countNAs</th></tr>\n",
       "\t<tr><th scope=col>&lt;chr&gt;</th><th scope=col>&lt;int&gt;</th></tr>\n",
       "</thead>\n",
       "<tbody>\n",
       "\t<tr><td>durPurchaseToDelivery</td><td>6</td></tr>\n",
       "\t<tr><td>durPurchaseToApproval</td><td>6</td></tr>\n",
       "\t<tr><td>durApprovalToDelivery</td><td>6</td></tr>\n",
       "\t<tr><td>durDeliveryToReview  </td><td>6</td></tr>\n",
       "</tbody>\n",
       "</table>\n"
      ],
      "text/latex": [
       "A data.table: 4 × 2\n",
       "\\begin{tabular}{r|ll}\n",
       " col & countNAs\\\\\n",
       " <chr> & <int>\\\\\n",
       "\\hline\n",
       "\t durPurchaseToDelivery & 6\\\\\n",
       "\t durPurchaseToApproval & 6\\\\\n",
       "\t durApprovalToDelivery & 6\\\\\n",
       "\t durDeliveryToReview   & 6\\\\\n",
       "\\end{tabular}\n"
      ],
      "text/markdown": [
       "\n",
       "A data.table: 4 × 2\n",
       "\n",
       "| col &lt;chr&gt; | countNAs &lt;int&gt; |\n",
       "|---|---|\n",
       "| durPurchaseToDelivery | 6 |\n",
       "| durPurchaseToApproval | 6 |\n",
       "| durApprovalToDelivery | 6 |\n",
       "| durDeliveryToReview   | 6 |\n",
       "\n"
      ],
      "text/plain": [
       "  col                   countNAs\n",
       "1 durPurchaseToDelivery 6       \n",
       "2 durPurchaseToApproval 6       \n",
       "3 durApprovalToDelivery 6       \n",
       "4 durDeliveryToReview   6       "
      ]
     },
     "metadata": {},
     "output_type": "display_data"
    }
   ],
   "source": [
    "# Are there any NAs?\n",
    "rbindlist(lapply(colnames(durationVars), function(colname){\n",
    "    x <- durationVars[, get(colname)]\n",
    "    countNAs <- sum(is.na(x))\n",
    "    return(data.table(col = colname, countNAs = countNAs))\n",
    "}))"
   ]
  },
  {
   "cell_type": "code",
   "execution_count": 74,
   "metadata": {},
   "outputs": [
    {
     "name": "stdout",
     "output_type": "stream",
     "text": [
      "[1] 24120\n",
      "[1] 24114\n"
     ]
    }
   ],
   "source": [
    "# Remove NAs\n",
    "print(nrow(durationVars))\n",
    "durationVars <- na.omit(durationVars)\n",
    "print(nrow(durationVars))"
   ]
  },
  {
   "cell_type": "code",
   "execution_count": 75,
   "metadata": {},
   "outputs": [
    {
     "data": {
      "text/html": [
       "<table>\n",
       "<caption>A matrix: 4 × 4 of type dbl</caption>\n",
       "<thead>\n",
       "\t<tr><th></th><th scope=col>durPurchaseToDelivery</th><th scope=col>durPurchaseToApproval</th><th scope=col>durApprovalToDelivery</th><th scope=col>durDeliveryToReview</th></tr>\n",
       "</thead>\n",
       "<tbody>\n",
       "\t<tr><th scope=row>durPurchaseToDelivery</th><td> 1.000</td><td> 0.080</td><td> 0.996</td><td>-0.274</td></tr>\n",
       "\t<tr><th scope=row>durPurchaseToApproval</th><td> 0.080</td><td> 1.000</td><td>-0.012</td><td> 0.010</td></tr>\n",
       "\t<tr><th scope=row>durApprovalToDelivery</th><td> 0.996</td><td>-0.012</td><td> 1.000</td><td>-0.275</td></tr>\n",
       "\t<tr><th scope=row>durDeliveryToReview</th><td>-0.274</td><td> 0.010</td><td>-0.275</td><td> 1.000</td></tr>\n",
       "</tbody>\n",
       "</table>\n"
      ],
      "text/latex": [
       "A matrix: 4 × 4 of type dbl\n",
       "\\begin{tabular}{r|llll}\n",
       "  & durPurchaseToDelivery & durPurchaseToApproval & durApprovalToDelivery & durDeliveryToReview\\\\\n",
       "\\hline\n",
       "\tdurPurchaseToDelivery &  1.000 &  0.080 &  0.996 & -0.274\\\\\n",
       "\tdurPurchaseToApproval &  0.080 &  1.000 & -0.012 &  0.010\\\\\n",
       "\tdurApprovalToDelivery &  0.996 & -0.012 &  1.000 & -0.275\\\\\n",
       "\tdurDeliveryToReview & -0.274 &  0.010 & -0.275 &  1.000\\\\\n",
       "\\end{tabular}\n"
      ],
      "text/markdown": [
       "\n",
       "A matrix: 4 × 4 of type dbl\n",
       "\n",
       "| <!--/--> | durPurchaseToDelivery | durPurchaseToApproval | durApprovalToDelivery | durDeliveryToReview |\n",
       "|---|---|---|---|---|\n",
       "| durPurchaseToDelivery |  1.000 |  0.080 |  0.996 | -0.274 |\n",
       "| durPurchaseToApproval |  0.080 |  1.000 | -0.012 |  0.010 |\n",
       "| durApprovalToDelivery |  0.996 | -0.012 |  1.000 | -0.275 |\n",
       "| durDeliveryToReview | -0.274 |  0.010 | -0.275 |  1.000 |\n",
       "\n"
      ],
      "text/plain": [
       "                      durPurchaseToDelivery durPurchaseToApproval\n",
       "durPurchaseToDelivery  1.000                 0.080               \n",
       "durPurchaseToApproval  0.080                 1.000               \n",
       "durApprovalToDelivery  0.996                -0.012               \n",
       "durDeliveryToReview   -0.274                 0.010               \n",
       "                      durApprovalToDelivery durDeliveryToReview\n",
       "durPurchaseToDelivery  0.996                -0.274             \n",
       "durPurchaseToApproval -0.012                 0.010             \n",
       "durApprovalToDelivery  1.000                -0.275             \n",
       "durDeliveryToReview   -0.275                 1.000             "
      ]
     },
     "metadata": {},
     "output_type": "display_data"
    }
   ],
   "source": [
    "round(cor(durationVars), 3)"
   ]
  },
  {
   "cell_type": "markdown",
   "metadata": {},
   "source": [
    "* `Approval-To-Delivery` and `Purchase-To-Delivery` have almost perfect correlation.\n",
    "* $\\Rightarrow$ Drop `Approval-To-Delivery` and run regression"
   ]
  },
  {
   "cell_type": "code",
   "execution_count": 76,
   "metadata": {},
   "outputs": [],
   "source": [
    "dataRegression <- dataRegression %>% select(-durApprovalToDelivery)"
   ]
  },
  {
   "cell_type": "markdown",
   "metadata": {},
   "source": [
    "### Regression"
   ]
  },
  {
   "cell_type": "code",
   "execution_count": 77,
   "metadata": {},
   "outputs": [
    {
     "data": {
      "text/plain": [
       "\n",
       "Call:\n",
       "lm(formula = review_score ~ ., data = dataRegression)\n",
       "\n",
       "Residuals:\n",
       "    Min      1Q  Median      3Q     Max \n",
       "-3.8823 -0.4371  0.4832  0.7396  9.0960 \n",
       "\n",
       "Coefficients: (2 not defined because of singularities)\n",
       "                        Estimate Std. Error t value Pr(>|t|)    \n",
       "(Intercept)            6.132e+00  1.263e-01  48.550  < 2e-16 ***\n",
       "boleto                 5.471e-02  6.738e-02   0.812   0.4168    \n",
       "credit_card           -1.808e-02  6.506e-02  -0.278   0.7811    \n",
       "debit_card            -4.939e-02  9.002e-02  -0.549   0.5833    \n",
       "nmb_pay_types          3.098e-02  5.360e-02   0.578   0.5632    \n",
       "not_defined                   NA         NA      NA       NA    \n",
       "total_installments     4.643e-03  3.293e-03   1.410   0.1585    \n",
       "total_pay_value        1.927e-03  4.587e-04   4.201 2.67e-05 ***\n",
       "voucher                       NA         NA      NA       NA    \n",
       "nmb_items             -2.678e-01  1.836e-02 -14.587  < 2e-16 ***\n",
       "unique_items          -3.671e-03  4.722e-02  -0.078   0.9380    \n",
       "nmb_sellers           -9.449e-01  8.906e-02 -10.609  < 2e-16 ***\n",
       "sum_items_value       -1.997e-03  4.769e-04  -4.186 2.85e-05 ***\n",
       "nmb_categories        -2.351e-01  1.122e-01  -2.096   0.0361 *  \n",
       "avg_desc_length        3.053e-05  1.227e-05   2.488   0.0128 *  \n",
       "avg_ph_quality        -3.783e-03  4.541e-03  -0.833   0.4048    \n",
       "durPurchaseToDelivery -4.528e-02  8.717e-04 -51.947  < 2e-16 ***\n",
       "durPurchaseToApproval  3.014e-03  1.065e-02   0.283   0.7772    \n",
       "durDeliveryToReview    1.295e-03  7.066e-04   1.833   0.0669 .  \n",
       "---\n",
       "Signif. codes:  0 '***' 0.001 '**' 0.01 '*' 0.05 '.' 0.1 ' ' 1\n",
       "\n",
       "Residual standard error: 1.197 on 23738 degrees of freedom\n",
       "  (365 observations deleted due to missingness)\n",
       "Multiple R-squared:  0.1324,\tAdjusted R-squared:  0.1318 \n",
       "F-statistic: 226.3 on 16 and 23738 DF,  p-value: < 2.2e-16\n"
      ]
     },
     "metadata": {},
     "output_type": "display_data"
    }
   ],
   "source": [
    "simpleLinearModel <- lm(review_score ~ ., dataRegression)\n",
    "summary(simpleLinearModel)"
   ]
  },
  {
   "cell_type": "markdown",
   "metadata": {},
   "source": [
    "* `nmb_items` has a signficant negative coefficient\n",
    "    - As you order more items, the order might take longer\n",
    "    - $\\Rightarrow$ Does nmb_items correlate with `durPurchaseToDelivery`?\n",
    "* `total_pay_value` has a significant positive coefficient\n",
    "    - Maybe customers who have already ordered at OLIST tend to order larger volumes. But since they have already ordered, they must have been already satisfied before (\"self-selection\")\n",
    "* **Duration between purchase and delivery** has a significant negative relationship with the review-score:\n",
    "    - As the duration takes 1 day longer, you expect a review with 0.045 less stars.\n",
    "* **Duration between delivery and review** has a significant positive relationship with the review-score:\n",
    "    - Unsatisfied customers are quicker with their reviews, as they want to express their rage immediatly (?)\n",
    " "
   ]
  },
  {
   "cell_type": "code",
   "execution_count": 78,
   "metadata": {},
   "outputs": [
    {
     "data": {
      "text/html": [
       "-0.0204554430409856"
      ],
      "text/latex": [
       "-0.0204554430409856"
      ],
      "text/markdown": [
       "-0.0204554430409856"
      ],
      "text/plain": [
       "[1] -0.02045544"
      ]
     },
     "metadata": {},
     "output_type": "display_data"
    }
   ],
   "source": [
    "cor(dataRegression$nmb_items, dataRegression$durPurchaseToDelivery, use = \"complete.obs\")"
   ]
  },
  {
   "cell_type": "code",
   "execution_count": 79,
   "metadata": {},
   "outputs": [
    {
     "data": {
      "image/png": "[encoded data removed]",
      "text/plain": [
       "plot without title"
      ]
     },
     "metadata": {
      "image/png": {
       "height": 420,
       "width": 420
      }
     },
     "output_type": "display_data"
    }
   ],
   "source": [
    "ggplot(dataRegression, aes(x = nmb_items, y = durPurchaseToDelivery)) +\n",
    "    geom_point()"
   ]
  }
 ],
 "metadata": {
  "kernelspec": {
   "display_name": "R",
   "language": "R",
   "name": "ir"
  },
  "language_info": {
   "codemirror_mode": "r",
   "file_extension": ".r",
   "mimetype": "text/x-r-source",
   "name": "R",
   "pygments_lexer": "r",
   "version": "3.6.1"
  }
 },
 "nbformat": 4,
 "nbformat_minor": 4
}
